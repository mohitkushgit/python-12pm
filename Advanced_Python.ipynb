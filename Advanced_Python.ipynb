{
 "cells": [
  {
   "cell_type": "markdown",
   "metadata": {},
   "source": [
    "# Class :"
   ]
  },
  {
   "cell_type": "code",
   "execution_count": 2,
   "metadata": {},
   "outputs": [
    {
     "name": "stdout",
     "output_type": "stream",
     "text": [
      "1\n",
      "1\n",
      "1\n",
      "1\n",
      "Name :  Zara \n",
      " Salary : 2000 \n",
      "\n",
      "Name :  Manni \n",
      " Salary : 5000 \n",
      "\n",
      "Name :  Mohit \n",
      " Salary : 20000 \n",
      "\n",
      "Name :  shahil \n",
      " Salary : 20000 \n",
      "\n",
      "Total number of Employees are :  0\n",
      "new name: zaira\n",
      "Name :  zaira \n",
      " Salary : 7000 \n",
      "\n",
      "False\n",
      "empoyee count: 0\n"
     ]
    }
   ],
   "source": [
    "class Employee :\n",
    "    empcount = 0\n",
    "    \n",
    "    def __init__(self, name, salary):\n",
    "        self.name = name\n",
    "        self.salary = salary\n",
    "        Employee.empcount+=1\n",
    "        print(Employee.empcount)\n",
    "    def disp_count() :\n",
    "        print('Total number of Employees are : ', Employee.empcount)\n",
    "    def __del__(self):\n",
    "        Employee.empcount-=1\n",
    "    def disp_emp(self) :\n",
    "        print('Name : ', self.name, '\\n Salary :', self.salary, '\\n')\n",
    "\n",
    "        \n",
    "emp1 = Employee(\"Zara\", 2000)\n",
    "emp2 = Employee(\"Manni\", 5000)\n",
    "emp3 = Employee('Mohit', 20000)\n",
    "emp4 = Employee('shahil', 20000)\n",
    "\n",
    "emp1.disp_emp()\n",
    "emp2.disp_emp()\n",
    "emp3.disp_emp()\n",
    "emp4.disp_emp()\n",
    "Employee.disp_count()\n",
    "\n",
    "emp1.salary = 7000\n",
    "emp1.name = 'zaira'\n",
    "print('new name:',emp1.name)\n",
    "\n",
    "emp1.disp_emp()\n",
    "del emp1.salary\n",
    "print(hasattr(emp1, 'salary'))\n",
    "\n",
    "print('empoyee count:',Employee.empcount)"
   ]
  },
  {
   "cell_type": "code",
   "execution_count": 8,
   "metadata": {},
   "outputs": [
    {
     "name": "stdout",
     "output_type": "stream",
     "text": [
      "None\n"
     ]
    }
   ],
   "source": [
    "print(None)"
   ]
  },
  {
   "cell_type": "code",
   "execution_count": 1,
   "metadata": {},
   "outputs": [
    {
     "ename": "ImportError",
     "evalue": "cannot import name 'path'",
     "output_type": "error",
     "traceback": [
      "\u001b[1;31m---------------------------------------------------------------------------\u001b[0m",
      "\u001b[1;31mImportError\u001b[0m                               Traceback (most recent call last)",
      "\u001b[1;32m<ipython-input-1-8b22355845c5>\u001b[0m in \u001b[0;36m<module>\u001b[1;34m()\u001b[0m\n\u001b[1;32m----> 1\u001b[1;33m \u001b[1;32mfrom\u001b[0m \u001b[0mpathlib\u001b[0m \u001b[1;32mimport\u001b[0m \u001b[0mpath\u001b[0m\u001b[1;33m\u001b[0m\u001b[0m\n\u001b[0m\u001b[0;32m      2\u001b[0m \u001b[0mpath\u001b[0m \u001b[1;33m=\u001b[0m \u001b[0mpath\u001b[0m\u001b[1;33m(\u001b[0m\u001b[1;33m)\u001b[0m\u001b[1;33m\u001b[0m\u001b[0m\n\u001b[0;32m      3\u001b[0m \u001b[0mprint\u001b[0m\u001b[1;33m(\u001b[0m\u001b[0mpath\u001b[0m\u001b[1;33m.\u001b[0m\u001b[0mglob\u001b[0m\u001b[1;33m(\u001b[0m\u001b[1;34m'*.py'\u001b[0m\u001b[1;33m)\u001b[0m\u001b[1;33m)\u001b[0m\u001b[1;33m\u001b[0m\u001b[0m\n",
      "\u001b[1;31mImportError\u001b[0m: cannot import name 'path'"
     ]
    }
   ],
   "source": [
    "from pathlib import path\n",
    "path = path()\n",
    "print(path.glob('*.py'))"
   ]
  },
  {
   "cell_type": "code",
   "execution_count": 1,
   "metadata": {},
   "outputs": [
    {
     "name": "stdout",
     "output_type": "stream",
     "text": [
      "A New Exception occured:  6\n"
     ]
    }
   ],
   "source": [
    "class MyError(Exception): \n",
    "  \n",
    "    # Constructor or Initializer \n",
    "    def __init__(self, value): \n",
    "        self.value = value \n",
    "  \n",
    "    # __str__ is to print() the value \n",
    "    def __str__(self): \n",
    "        return(repr(self.value)) \n",
    "  \n",
    "try: \n",
    "    raise(MyError(3*2)) \n",
    "  \n",
    "# Value of Exception is stored in error \n",
    "except MyError as error: \n",
    "    print('A New Exception occured: ',error.value) "
   ]
  },
  {
   "cell_type": "code",
   "execution_count": null,
   "metadata": {},
   "outputs": [],
   "source": []
  }
 ],
 "metadata": {
  "kernelspec": {
   "display_name": "Python 3",
   "language": "python",
   "name": "python3"
  },
  "language_info": {
   "codemirror_mode": {
    "name": "ipython",
    "version": 3
   },
   "file_extension": ".py",
   "mimetype": "text/x-python",
   "name": "python",
   "nbconvert_exporter": "python",
   "pygments_lexer": "ipython3",
   "version": "3.6.5"
  }
 },
 "nbformat": 4,
 "nbformat_minor": 2
}
