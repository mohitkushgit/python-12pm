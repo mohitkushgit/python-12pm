{
 "cells": [
  {
   "cell_type": "markdown",
   "metadata": {},
   "source": [
    "# while loop and for loop \n",
    "#    \":\" - indentation  operator"
   ]
  },
  {
   "cell_type": "code",
   "execution_count": 1,
   "metadata": {},
   "outputs": [
    {
     "ename": "SyntaxError",
     "evalue": "'continue' not properly in loop (<ipython-input-1-c2f9b0895048>, line 3)",
     "output_type": "error",
     "traceback": [
      "\u001b[1;36m  File \u001b[1;32m\"<ipython-input-1-c2f9b0895048>\"\u001b[1;36m, line \u001b[1;32m3\u001b[0m\n\u001b[1;33m    continue\u001b[0m\n\u001b[1;37m    ^\u001b[0m\n\u001b[1;31mSyntaxError\u001b[0m\u001b[1;31m:\u001b[0m 'continue' not properly in loop\n"
     ]
    }
   ],
   "source": [
    "the quick brown fox jumps over lazy fox"
   ]
  },
  {
   "cell_type": "code",
   "execution_count": null,
   "metadata": {},
   "outputs": [],
   "source": [
    "guessing game 1 to 5 using while"
   ]
  },
  {
   "cell_type": "code",
   "execution_count": 7,
   "metadata": {},
   "outputs": [
    {
     "name": "stdout",
     "output_type": "stream",
     "text": [
      "ran_int 35\n",
      "enter a number : 45\n",
      "You have entered a larger number :\n",
      "enter a number : 44\n",
      "You have entered a larger number :\n",
      "enter a number : 47\n",
      "You have entered a larger number :\n",
      "enter a number : 34\n",
      "You have entered a smaller number :\n",
      "enter a number : 30\n",
      "You have entered a smaller number :\n",
      "YOU HAVE LOST!\n",
      " The number was : 35\n",
      "WOULD YOU LIKE TO PLAY AGAIN\n",
      " Enter 1 for yes\n",
      " Enter 2 to exit \n",
      " :1\n",
      "GOOD ! LET'S CONTINUE :\n",
      "ran_int 32\n",
      "enter a number : 32\n",
      "CONGARATS! YOU HAVE WON!\n",
      "WOULD YOU LIKE TO PLAY AGAIN\n",
      " Enter 1 for yes\n",
      " Enter 2 to exit \n",
      " :1\n",
      "GOOD ! LET'S CONTINUE :\n",
      "ran_int 43\n",
      "enter a number : 43\n",
      "CONGARATS! YOU HAVE WON!\n",
      "WOULD YOU LIKE TO PLAY AGAIN\n",
      " Enter 1 for yes\n",
      " Enter 2 to exit \n",
      " :2\n",
      "EXITING!\n"
     ]
    }
   ],
   "source": [
    "import random\n",
    "while True:\n",
    "    \n",
    "    ran_int = random.randint(1,50)\n",
    "    print('ran_int', ran_int)\n",
    "    guessing_chance = 5\n",
    "    while guessing_chance>0 :\n",
    "        guess= int(input('enter a number : '))\n",
    "        if guess==ran_int :\n",
    "            print('CONGARATS! YOU HAVE WON!')\n",
    "            break\n",
    "        elif guess>ran_int :\n",
    "            print('You have entered a larger number :')\n",
    "        else :\n",
    "            print('You have entered a smaller number :')\n",
    "    \n",
    "        if guessing_chance == 1 :\n",
    "            print('YOU HAVE LOST!\\n The number was :',ran_int)\n",
    "        guessing_chance -= 1\n",
    "    x=int(input('WOULD YOU LIKE TO PLAY AGAIN\\n Enter 1 for yes\\n Enter 2 to exit \\n :'))\n",
    "    if x==1 :\n",
    "        print('GOOD ! LET\\'S CONTINUE :')\n",
    "    elif x==2 :\n",
    "        print('EXITING!')\n",
    "        break\n",
    "    else :\n",
    "        print('invalid input ! exiting')\n",
    "        break\n",
    "    \n",
    "    "
   ]
  },
  {
   "cell_type": "code",
   "execution_count": 10,
   "metadata": {},
   "outputs": [
    {
     "name": "stdout",
     "output_type": "stream",
     "text": [
      "Enter any key : or press \"enter\" key to exit the loop\n",
      "exiting\n",
      "loop ended\n"
     ]
    }
   ],
   "source": [
    "while True :\n",
    "    user_input = input('Enter any key : or press \"enter\" key to exit the loop')\n",
    "    if user_input=='' :\n",
    "        print('exiting\\nloop ended')\n",
    "        break\n",
    "    else:\n",
    "        print('loop continues')\n"
   ]
  },
  {
   "cell_type": "code",
   "execution_count": null,
   "metadata": {},
   "outputs": [],
   "source": []
  }
 ],
 "metadata": {
  "kernelspec": {
   "display_name": "Python 3",
   "language": "python",
   "name": "python3"
  },
  "language_info": {
   "codemirror_mode": {
    "name": "ipython",
    "version": 3
   },
   "file_extension": ".py",
   "mimetype": "text/x-python",
   "name": "python",
   "nbconvert_exporter": "python",
   "pygments_lexer": "ipython3",
   "version": "3.6.5"
  }
 },
 "nbformat": 4,
 "nbformat_minor": 2
}
