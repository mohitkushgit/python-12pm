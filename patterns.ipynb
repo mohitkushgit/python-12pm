{
 "cells": [
  {
   "cell_type": "markdown",
   "metadata": {},
   "source": [
    "<font size='40' color='blue'><b>Patterns : </b></font>"
   ]
  },
  {
   "cell_type": "code",
   "execution_count": 1,
   "metadata": {},
   "outputs": [
    {
     "name": "stdout",
     "output_type": "stream",
     "text": [
      "* \r\n",
      "* * \r\n",
      "* * * \r\n",
      "* * * * \r\n",
      "* * * * * \r\n",
      "* * * * * * \r\n"
     ]
    }
   ],
   "source": [
    "for i in range(0,6):\n",
    "    for j in range(0,i+1):\n",
    "        print('*',end = ' ')\n",
    "    print('\\r')\n"
   ]
  },
  {
   "cell_type": "code",
   "execution_count": 1,
   "metadata": {},
   "outputs": [
    {
     "name": "stdout",
     "output_type": "stream",
     "text": [
      "\r\n",
      "* * * * * \r\n",
      "* * * * \r\n",
      "* * * \r\n",
      "* * \r\n",
      "* \r\n",
      "* \r\n",
      "* * \r\n",
      "* * * \r\n",
      "* * * * \r\n",
      "* * * * * "
     ]
    }
   ],
   "source": [
    "for i in range(0,5):\n",
    "    print('\\r')\n",
    "    for j in range(5,i,-1):\n",
    "        print('*', end = ' ')\n",
    "for i in range(0,5):\n",
    "    print('\\r')\n",
    "    for j in range(0,i+1):\n",
    "        print('*',end = ' ')\n",
    "\n",
    "\n",
    "        "
   ]
  },
  {
   "cell_type": "code",
   "execution_count": 2,
   "metadata": {},
   "outputs": [
    {
     "name": "stdout",
     "output_type": "stream",
     "text": [
      "\r\n",
      "  * * * * * \r\n",
      "    * * * * \r\n",
      "      * * * \r\n",
      "        * * \r\n",
      "          * "
     ]
    }
   ],
   "source": [
    "for i in range(5,0,-1):\n",
    "    print('\\r')\n",
    "    for k in range(5,i-1,-1):\n",
    "        print(' ', end = ' ')\n",
    "    for j in range(0,i):\n",
    "        print('*', end = ' ')\n"
   ]
  },
  {
   "cell_type": "code",
   "execution_count": 3,
   "metadata": {},
   "outputs": [
    {
     "name": "stdout",
     "output_type": "stream",
     "text": [
      "\r\n",
      "* * * * * * * * * * \r\n",
      "* * * *     * * * * \r\n",
      "* * *         * * * \r\n",
      "* *             * * \r\n",
      "*                 * "
     ]
    }
   ],
   "source": [
    "for i in range(0,5):\n",
    "    print('\\r')\n",
    "    for j in range(5,i,-1):\n",
    "        print('*', end = ' ')\n",
    "    for k in range(0,i):\n",
    "        print(' ', end = '   ')\n",
    "    for l in range(5,i,-1):\n",
    "        print('*', end = ' ')\n"
   ]
  },
  {
   "cell_type": "code",
   "execution_count": 4,
   "metadata": {},
   "outputs": [
    {
     "name": "stdout",
     "output_type": "stream",
     "text": [
      "\r\n",
      "*                 * \r\n",
      "* *             * * \r\n",
      "* * *         * * * \r\n",
      "* * * *     * * * * \r\n",
      "* * * * * * * * * * "
     ]
    }
   ],
   "source": [
    "for i in range(0,5):\n",
    "    print('\\r')\n",
    "    for j in range(0,i+1):\n",
    "        print('*',end = ' ')\n",
    "    for k in range(5,i+1,-1):\n",
    "        print(' ', end = '   ')\n",
    "    for l in range(0,i+1):\n",
    "        print('*', end = ' ')"
   ]
  },
  {
   "cell_type": "code",
   "execution_count": 1,
   "metadata": {},
   "outputs": [
    {
     "name": "stdout",
     "output_type": "stream",
     "text": [
      "\r\n",
      "* * * * * * * * * * \r\n",
      "* * * *     * * * * \r\n",
      "* * *         * * * \r\n",
      "* *             * * \r\n",
      "*                 * \r\n",
      "*                 * \r\n",
      "* *             * * \r\n",
      "* * *         * * * \r\n",
      "* * * *     * * * * \r\n",
      "* * * * * * * * * * "
     ]
    }
   ],
   "source": [
    "for i in range(0,5):\n",
    "    print('\\r')\n",
    "    for j in range(5,i,-1):\n",
    "        print('*', end = ' ')\n",
    "    for k in range(0,i):\n",
    "        print(' ', end = '   ')\n",
    "    for l in range(5,i,-1):\n",
    "        print('*', end = ' ')\n",
    "for i in range(0,5):\n",
    "    print('\\r')\n",
    "    for j in range(0,i+1):\n",
    "        print('*',end = ' ')\n",
    "    for k in range(5,i+1,-1):\n",
    "        print(' ', end = '   ')\n",
    "    for l in range(0,i+1):\n",
    "        print('*', end = ' ')\n"
   ]
  },
  {
   "cell_type": "code",
   "execution_count": null,
   "metadata": {},
   "outputs": [],
   "source": [
    "print('11/10/2019, 04:00 AM')"
   ]
  },
  {
   "cell_type": "code",
   "execution_count": 5,
   "metadata": {},
   "outputs": [
    {
     "name": "stdout",
     "output_type": "stream",
     "text": [
      "\r\n",
      "* * * * * * * * * * * * * * * * * * * * * * * * * * * * * * \r\n",
      "* * * *     * * * * * * * *     * * * * * * * *     * * * * \r\n",
      "* * *         * * * * * *         * * * * * *         * * * \r\n",
      "* *             * * * *             * * * *             * * \r\n",
      "*                 * *                 * *                 * \r\n",
      "*                 * *                 * *                 * \r\n",
      "* *             * * * *             * * * *             * * \r\n",
      "* * *         * * * * * *         * * * * * *         * * * \r\n",
      "* * * *     * * * * * * * *     * * * * * * * *     * * * * \r\n",
      "* * * * * * * * * * * * * * * * * * * * * * * * * * * * * * "
     ]
    }
   ],
   "source": [
    "for i in range(0,5):\n",
    "    print('\\r')\n",
    "    for j in range(5,i,-1):\n",
    "        print('*', end = ' ')\n",
    "    for k in range(0,i):\n",
    "        print(' ', end = '   ')\n",
    "    for l in range(5,i,-1):\n",
    "        print('*', end = ' ')\n",
    "    for j in range(5,i,-1):\n",
    "        print('*', end = ' ')\n",
    "    for k in range(0,i):\n",
    "        print(' ', end = '   ')\n",
    "    for l in range(5,i,-1):\n",
    "        print('*', end = ' ')\n",
    "    for j in range(5,i,-1):\n",
    "        print('*', end = ' ')\n",
    "    for k in range(0,i):\n",
    "        print(' ', end = '   ')\n",
    "    for l in range(5,i,-1):\n",
    "        print('*', end = ' ')\n",
    "        \n",
    "for i in range(0,5):\n",
    "    print('\\r')\n",
    "    for j in range(0,i+1):\n",
    "        print('*',end = ' ')\n",
    "    for k in range(5,i+1,-1):\n",
    "        print(' ', end = '   ')\n",
    "    for l in range(0,i+1):\n",
    "        print('*', end = ' ')\n",
    "    for j in range(0,i+1):\n",
    "        print('*',end = ' ')\n",
    "    for k in range(5,i+1,-1):\n",
    "        print(' ', end = '   ')\n",
    "    for l in range(0,i+1):\n",
    "        print('*', end = ' ')\n",
    "    for j in range(0,i+1):\n",
    "        print('*',end = ' ')\n",
    "    for k in range(5,i+1,-1):\n",
    "        print(' ', end = '   ')\n",
    "    for l in range(0,i+1):\n",
    "        print('*', end = ' ')\n"
   ]
  },
  {
   "cell_type": "code",
   "execution_count": 6,
   "metadata": {},
   "outputs": [
    {
     "name": "stdout",
     "output_type": "stream",
     "text": [
      "\r\n",
      "* * * * * * * * * * \r\n",
      "* * * *     * * * * \r\n",
      "* * *         * * * \r\n",
      "* *             * * \r\n",
      "*                 * \r\n",
      "* * * * * * * * * * \r\n",
      "* * * *     * * * * \r\n",
      "* * *         * * * \r\n",
      "* *             * * \r\n",
      "*                 * \r\n",
      "* * * * * * * * * * \r\n",
      "* * * *     * * * * \r\n",
      "* * *         * * * \r\n",
      "* *             * * \r\n",
      "*                 * \r\n",
      "*                 * \r\n",
      "* *             * * \r\n",
      "* * *         * * * \r\n",
      "* * * *     * * * * \r\n",
      "* * * * * * * * * * \r\n",
      "*                 * \r\n",
      "* *             * * \r\n",
      "* * *         * * * \r\n",
      "* * * *     * * * * \r\n",
      "* * * * * * * * * * \r\n",
      "*                 * \r\n",
      "* *             * * \r\n",
      "* * *         * * * \r\n",
      "* * * *     * * * * \r\n",
      "* * * * * * * * * * "
     ]
    }
   ],
   "source": [
    "for x in range(0,3):\n",
    "    for i in range(0,5):\n",
    "        print('\\r')\n",
    "        for j in range(5,i,-1):\n",
    "            print('*', end = ' ')\n",
    "        for k in range(0,i):\n",
    "            print(' ', end = '   ')\n",
    "        for l in range(5,i,-1):\n",
    "            print('*', end = ' ')\n",
    "            \n",
    "for x in range(0,3):\n",
    "    for i in range(0,5):\n",
    "        print('\\r')\n",
    "        for j in range(0,i+1):\n",
    "            print('*',end = ' ')\n",
    "        for k in range(5,i+1,-1):\n",
    "            print(' ', end = '   ')\n",
    "        for l in range(0,i+1):\n",
    "            print('*', end = ' ')\n"
   ]
  },
  {
   "cell_type": "code",
   "execution_count": 9,
   "metadata": {},
   "outputs": [
    {
     "name": "stdout",
     "output_type": "stream",
     "text": [
      "     *\n",
      "    * *\n",
      "   * * *\n",
      "  * * * *\n",
      " * * * * *\n"
     ]
    }
   ],
   "source": [
    "i = 1\n",
    "while i <= 5 :\n",
    "    print(' '*(5-i) + ' *'*i)\n",
    "    i += 1"
   ]
  },
  {
   "cell_type": "code",
   "execution_count": null,
   "metadata": {},
   "outputs": [],
   "source": [
    "try :\n",
    "    a = int(input('enter the x : '))\n",
    "    b = int(input('enter the y : '))\n",
    "    c = int(input('enter the z : '))\n",
    "\n",
    "    if(a>b and a>c ) or a==b or a==c :\n",
    "        print(a,' a is maximum')\n",
    "    \n",
    "    elif b>c :\n",
    "        print(b, 'b is max')\n",
    "    else :\n",
    "        print(c, ' c is max')5\n",
    "    \n",
    "except ValueError :\n",
    "        print('you can only enter integer')\n",
    "        "
   ]
  },
  {
   "cell_type": "code",
   "execution_count": null,
   "metadata": {},
   "outputs": [],
   "source": [
    "import random\n",
    "l=['ROCK', 'PAPER', 'SCISSOR']\n",
    "p1=input('enter stone or paper or scissor : ')\n",
    "p1= p1.upper()\n",
    "r_ch=random.choice(l)\n",
    "print('\\n computer  ch: ', r_ch)\n",
    "\n",
    "if p1 == r_ch :\n",
    "    print('Its a DRAW!')\n",
    "    \n",
    "elif p1 == 'ROCK' :\n",
    "    if(r_ch == 'PAPER') :\n",
    "        print('YOU LOSE!')\n",
    "    else :\n",
    "        print('YOU WON!')\n",
    "        \n",
    "elif p1 == 'PAPER' :\n",
    "    if(r_ch == 'ROCK') :\n",
    "        print('YOU WON!')\n",
    "    else :\n",
    "        print('YOU LOSE!')\n",
    "        \n",
    "else :\n",
    "    if r_ch == 'ROCK' :\n",
    "        print('YOU LOSE!')\n",
    "    else :\n",
    "        print('YOU WON!')\n",
    "        \n",
    "    \n",
    "\n"
   ]
  },
  {
   "cell_type": "code",
   "execution_count": null,
   "metadata": {},
   "outputs": [],
   "source": []
  },
  {
   "cell_type": "code",
   "execution_count": null,
   "metadata": {},
   "outputs": [],
   "source": []
  }
 ],
 "metadata": {
  "kernelspec": {
   "display_name": "Python 3",
   "language": "python",
   "name": "python3"
  },
  "language_info": {
   "codemirror_mode": {
    "name": "ipython",
    "version": 3
   },
   "file_extension": ".py",
   "mimetype": "text/x-python",
   "name": "python",
   "nbconvert_exporter": "python",
   "pygments_lexer": "ipython3",
   "version": "3.6.5"
  }
 },
 "nbformat": 4,
 "nbformat_minor": 2
}
