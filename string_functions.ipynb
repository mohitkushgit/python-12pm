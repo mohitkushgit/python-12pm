{
 "cells": [
  {
   "cell_type": "code",
   "execution_count": 1,
   "metadata": {},
   "outputs": [
    {
     "name": "stdout",
     "output_type": "stream",
     "text": [
      "['__add__', '__class__', '__contains__', '__delattr__', '__dir__', '__doc__', '__eq__', '__format__', '__ge__', '__getattribute__', '__getitem__', '__getnewargs__', '__gt__', '__hash__', '__init__', '__init_subclass__', '__iter__', '__le__', '__len__', '__lt__', '__mod__', '__mul__', '__ne__', '__new__', '__reduce__', '__reduce_ex__', '__repr__', '__rmod__', '__rmul__', '__setattr__', '__sizeof__', '__str__', '__subclasshook__', 'capitalize', 'casefold', 'center', 'count', 'encode', 'endswith', 'expandtabs', 'find', 'format', 'format_map', 'index', 'isalnum', 'isalpha', 'isdecimal', 'isdigit', 'isidentifier', 'islower', 'isnumeric', 'isprintable', 'isspace', 'istitle', 'isupper', 'join', 'ljust', 'lower', 'lstrip', 'maketrans', 'partition', 'replace', 'rfind', 'rindex', 'rjust', 'rpartition', 'rsplit', 'rstrip', 'split', 'splitlines', 'startswith', 'strip', 'swapcase', 'title', 'translate', 'upper', 'zfill']\n"
     ]
    }
   ],
   "source": [
    "print(dir(str))"
   ]
  },
  {
   "cell_type": "code",
   "execution_count": 2,
   "metadata": {},
   "outputs": [
    {
     "name": "stdout",
     "output_type": "stream",
     "text": [
      "['this', 'is', 'a', 'string']\n"
     ]
    }
   ],
   "source": [
    "a='this is a string'\n",
    "print(a.split())"
   ]
  },
  {
   "cell_type": "code",
   "execution_count": 29,
   "metadata": {},
   "outputs": [
    {
     "name": "stdout",
     "output_type": "stream",
     "text": [
      "7\n"
     ]
    }
   ],
   "source": [
    "a='python programming demo'\n",
    "print(a.find('pro'))"
   ]
  },
  {
   "cell_type": "code",
   "execution_count": 30,
   "metadata": {},
   "outputs": [],
   "source": []
  },
  {
   "cell_type": "code",
   "execution_count": 3,
   "metadata": {},
   "outputs": [
    {
     "ename": "TypeError",
     "evalue": "must be str or None, not int",
     "output_type": "error",
     "traceback": [
      "\u001b[1;31m---------------------------------------------------------------------------\u001b[0m",
      "\u001b[1;31mTypeError\u001b[0m                                 Traceback (most recent call last)",
      "\u001b[1;32m<ipython-input-3-25d14968c952>\u001b[0m in \u001b[0;36m<module>\u001b[1;34m()\u001b[0m\n\u001b[1;32m----> 1\u001b[1;33m \u001b[0mprint\u001b[0m\u001b[1;33m(\u001b[0m\u001b[0ma\u001b[0m\u001b[1;33m.\u001b[0m\u001b[0msplit\u001b[0m\u001b[1;33m(\u001b[0m\u001b[1;36m10\u001b[0m\u001b[1;33m)\u001b[0m\u001b[1;33m)\u001b[0m\u001b[1;33m\u001b[0m\u001b[0m\n\u001b[0m",
      "\u001b[1;31mTypeError\u001b[0m: must be str or None, not int"
     ]
    }
   ],
   "source": [
    "print(a.split(10))"
   ]
  },
  {
   "cell_type": "code",
   "execution_count": 4,
   "metadata": {},
   "outputs": [
    {
     "name": "stdout",
     "output_type": "stream",
     "text": [
      "this is a string\n"
     ]
    }
   ],
   "source": [
    "print(a.strip())"
   ]
  },
  {
   "cell_type": "code",
   "execution_count": 5,
   "metadata": {},
   "outputs": [
    {
     "name": "stdout",
     "output_type": "stream",
     "text": [
      "this is a string\n"
     ]
    }
   ],
   "source": [
    "print(a.strip(' '))"
   ]
  },
  {
   "cell_type": "code",
   "execution_count": 11,
   "metadata": {},
   "outputs": [
    {
     "name": "stdout",
     "output_type": "stream",
     "text": [
      "this    is     a    string   with big        space\n"
     ]
    }
   ],
   "source": [
    "a='sthis    is     a    string   with big        spacess'\n",
    "print(a.strip(' s'))\n"
   ]
  },
  {
   "cell_type": "code",
   "execution_count": 15,
   "metadata": {},
   "outputs": [
    {
     "name": "stdout",
     "output_type": "stream",
     "text": [
      "['this is an example of multiple lines. ', 'This is second line. ', 'this is third line']\n"
     ]
    }
   ],
   "source": [
    "a='this is an example of multiple lines. \\nThis is second line. \\nthis is third line'\n",
    "print(a.splitlines())\n"
   ]
  },
  {
   "cell_type": "code",
   "execution_count": 23,
   "metadata": {},
   "outputs": [
    {
     "name": "stdout",
     "output_type": "stream",
     "text": [
      "b'mrinal'\n"
     ]
    }
   ],
   "source": [
    "a='mrinal'\n",
    "print(a.encode(encoding='UTF-8',errors='strict'))"
   ]
  },
  {
   "cell_type": "code",
   "execution_count": 25,
   "metadata": {},
   "outputs": [
    {
     "name": "stdout",
     "output_type": "stream",
     "text": [
      "                      mrinal                      \n"
     ]
    }
   ],
   "source": [
    "print(a.center(50))"
   ]
  },
  {
   "cell_type": "code",
   "execution_count": 1,
   "metadata": {},
   "outputs": [
    {
     "name": "stdout",
     "output_type": "stream",
     "text": [
      "['__add__', '__class__', '__contains__', '__delattr__', '__delitem__', '__dir__', '__doc__', '__eq__', '__format__', '__ge__', '__getattribute__', '__getitem__', '__gt__', '__hash__', '__iadd__', '__imul__', '__init__', '__init_subclass__', '__iter__', '__le__', '__len__', '__lt__', '__mul__', '__ne__', '__new__', '__reduce__', '__reduce_ex__', '__repr__', '__reversed__', '__rmul__', '__setattr__', '__setitem__', '__sizeof__', '__str__', '__subclasshook__', 'append', 'clear', 'copy', 'count', 'extend', 'index', 'insert', 'pop', 'remove', 'reverse', 'sort']\n"
     ]
    }
   ],
   "source": [
    "print(dir(list))"
   ]
  },
  {
   "cell_type": "code",
   "execution_count": 2,
   "metadata": {},
   "outputs": [
    {
     "ename": "TypeError",
     "evalue": "descriptor 'isidentifier' of 'str' object needs an argument",
     "output_type": "error",
     "traceback": [
      "\u001b[1;31m---------------------------------------------------------------------------\u001b[0m",
      "\u001b[1;31mTypeError\u001b[0m                                 Traceback (most recent call last)",
      "\u001b[1;32m<ipython-input-2-c0bcfad676e0>\u001b[0m in \u001b[0;36m<module>\u001b[1;34m()\u001b[0m\n\u001b[1;32m----> 1\u001b[1;33m \u001b[0mstr\u001b[0m\u001b[1;33m.\u001b[0m\u001b[0misidentifier\u001b[0m\u001b[1;33m(\u001b[0m\u001b[1;33m)\u001b[0m\u001b[1;33m\u001b[0m\u001b[0m\n\u001b[0m",
      "\u001b[1;31mTypeError\u001b[0m: descriptor 'isidentifier' of 'str' object needs an argument"
     ]
    }
   ],
   "source": [
    "str.isidentifier()"
   ]
  },
  {
   "cell_type": "code",
   "execution_count": 8,
   "metadata": {},
   "outputs": [
    {
     "name": "stdout",
     "output_type": "stream",
     "text": [
      "[[35, 20, 27, 1, 33, 2, 44, 7, 29, 40, 6, 32, 23, 43, 31, 30, 8, 24, 47, 46, 19, 34, 21, 18, 38], [1, 18, 44, 25, 15, 11, 34, 21, 2, 29, 41, 9, 4, 23, 46, 48, 36, 27, 12, 7, 32, 49, 8, 19, 47], [37, 3, 22, 20, 30, 49, 7, 19, 1, 18, 40, 35, 39, 41, 2, 29, 43, 26, 23, 16, 24, 44, 32, 4, 12], [29, 32, 16, 7, 37, 23, 20, 1, 40, 28, 10, 31, 42, 49, 34, 13, 38, 46, 27, 45, 36, 3, 47, 12, 5], [47, 24, 35, 28, 8, 36, 5, 46, 26, 16, 39, 32, 10, 43, 2, 29, 27, 41, 44, 12, 23, 31, 11, 42, 34], [27, 42, 6, 24, 2, 18, 3, 36, 7, 14, 46, 45, 39, 23, 38, 40, 26, 32, 12, 16, 30, 25, 11, 1, 5], [28, 44, 35, 48, 49, 34, 37, 10, 29, 41, 31, 11, 8, 2, 12, 22, 1, 47, 18, 24, 3, 40, 21, 19, 46], [25, 41, 16, 13, 30, 24, 38, 2, 45, 4, 39, 11, 17, 22, 12, 5, 28, 1, 14, 26, 6, 48, 21, 27, 23], [49, 43, 45, 18, 1, 21, 26, 16, 2, 37, 40, 10, 38, 34, 29, 8, 3, 17, 11, 30, 7, 48, 9, 23, 41], [48, 46, 26, 47, 23, 43, 3, 37, 13, 4, 19, 33, 2, 6, 12, 44, 35, 24, 22, 10, 20, 30, 9, 16, 41], [36, 13, 28, 18, 16, 47, 37, 27, 40, 29, 2, 25, 48, 6, 10, 4, 20, 31, 45, 35, 7, 44, 26, 8, 24], [33, 46, 32, 39, 45, 3, 28, 4, 2, 11, 7, 37, 49, 1, 19, 9, 10, 24, 34, 13, 40, 18, 17, 47, 29], [43, 17, 40, 37, 18, 7, 11, 45, 29, 47, 8, 13, 46, 49, 42, 27, 48, 41, 24, 44, 10, 20, 9, 33, 36], [2, 29, 7, 3, 39, 8, 30, 46, 25, 24, 42, 33, 15, 34, 21, 12, 28, 45, 18, 47, 14, 26, 10, 17, 11], [5, 36, 43, 31, 44, 4, 32, 19, 9, 22, 1, 26, 17, 45, 18, 34, 28, 46, 49, 37, 39, 25, 8, 20, 10], [15, 30, 3, 6, 24, 44, 42, 45, 5, 39, 13, 27, 46, 34, 22, 43, 37, 26, 47, 8, 7, 25, 36, 38, 48], [21, 7, 8, 28, 16, 49, 2, 11, 38, 14, 9, 27, 3, 19, 32, 47, 17, 35, 39, 6, 48, 44, 33, 24, 18], [39, 45, 42, 2, 8, 46, 48, 32, 5, 22, 16, 7, 44, 13, 38, 17, 27, 25, 37, 3, 47, 41, 23, 4, 18], [2, 42, 22, 36, 43, 44, 40, 31, 8, 13, 10, 37, 38, 45, 41, 25, 29, 33, 15, 12, 17, 27, 28, 39, 30], [13, 24, 14, 19, 8, 2, 45, 21, 47, 6, 42, 37, 48, 18, 23, 17, 29, 27, 32, 15, 35, 3, 41, 36, 22], [21, 9, 14, 1, 31, 15, 19, 36, 33, 3, 25, 35, 45, 48, 41, 12, 30, 27, 28, 43, 46, 24, 22, 49, 42], [46, 9, 3, 14, 34, 13, 1, 42, 7, 41, 39, 33, 35, 17, 30, 6, 24, 18, 48, 45, 27, 38, 20, 8, 10], [45, 27, 49, 13, 33, 47, 17, 18, 21, 3, 26, 44, 43, 2, 10, 35, 25, 20, 5, 48, 7, 23, 40, 42, 31], [10, 36, 44, 47, 5, 15, 24, 37, 40, 41, 38, 25, 12, 13, 27, 29, 46, 49, 23, 45, 11, 22, 3, 48, 21], [8, 12, 45, 40, 7, 49, 29, 48, 44, 6, 17, 42, 25, 37, 28, 22, 21, 19, 30, 15, 20, 34, 13, 9, 32], [49, 40, 30, 18, 25, 37, 19, 46, 23, 24, 3, 11, 14, 31, 8, 1, 41, 4, 28, 42, 47, 16, 43, 12, 35], [21, 23, 9, 48, 14, 28, 10, 13, 32, 12, 6, 2, 35, 22, 11, 37, 17, 44, 40, 4, 38, 3, 20, 47, 15], [26, 19, 37, 29, 31, 45, 11, 2, 14, 1, 16, 47, 8, 22, 41, 33, 39, 9, 40, 3, 34, 15, 17, 30, 43], [5, 28, 47, 46, 33, 19, 18, 8, 38, 14, 45, 42, 7, 4, 43, 15, 39, 44, 21, 41, 49, 2, 20, 34, 32], [11, 31, 12, 35, 22, 23, 20, 26, 37, 40, 1, 44, 34, 9, 49, 7, 21, 27, 45, 10, 25, 4, 36, 41, 24], [8, 33, 6, 26, 36, 22, 34, 3, 4, 32, 39, 5, 11, 43, 37, 31, 10, 18, 1, 9, 19, 14, 2, 38, 25], [46, 40, 1, 39, 31, 38, 30, 41, 15, 32, 10, 7, 4, 24, 3, 2, 49, 25, 45, 5, 34, 13, 43, 16, 21], [40, 43, 15, 1, 44, 3, 29, 36, 17, 22, 31, 2, 35, 39, 16, 14, 28, 42, 19, 12, 46, 25, 8, 4, 13], [21, 2, 5, 14, 32, 24, 19, 48, 26, 18, 8, 46, 34, 17, 20, 43, 28, 29, 12, 39, 38, 36, 27, 47, 40], [32, 25, 6, 45, 21, 19, 23, 24, 9, 35, 22, 49, 13, 43, 1, 38, 28, 4, 46, 12, 44, 39, 10, 26, 3], [11, 49, 19, 36, 48, 29, 42, 5, 31, 26, 7, 21, 27, 28, 8, 41, 37, 39, 34, 13, 10, 35, 3, 22, 43], [3, 12, 28, 2, 8, 32, 23, 43, 18, 14, 48, 24, 49, 7, 37, 25, 41, 9, 15, 31, 6, 36, 35, 47, 11], [21, 29, 32, 14, 48, 9, 3, 25, 6, 13, 45, 26, 11, 27, 16, 47, 36, 37, 5, 35, 12, 39, 34, 24, 23], [38, 43, 49, 18, 36, 29, 7, 19, 32, 21, 44, 23, 22, 45, 6, 37, 48, 39, 20, 25, 1, 17, 33, 5, 46], [13, 31, 7, 45, 41, 6, 36, 38, 3, 14, 15, 40, 18, 32, 8, 19, 22, 26, 9, 25, 23, 48, 17, 46, 39], [35, 37, 39, 40, 21, 34, 45, 14, 25, 36, 28, 23, 43, 15, 3, 2, 12, 13, 29, 5, 18, 38, 10, 32, 41], [48, 14, 40, 10, 38, 20, 30, 27, 3, 45, 46, 26, 41, 47, 32, 16, 36, 1, 17, 9, 29, 12, 28, 37, 15], [19, 11, 18, 12, 5, 21, 14, 34, 16, 28, 23, 40, 46, 8, 6, 27, 31, 24, 17, 49, 7, 35, 38, 44, 2], [36, 4, 20, 37, 29, 25, 6, 40, 16, 46, 26, 22, 2, 35, 14, 41, 47, 9, 48, 17, 12, 33, 10, 42, 49], [2, 31, 27, 40, 37, 12, 11, 29, 42, 48, 21, 10, 43, 30, 3, 23, 15, 26, 24, 47, 46, 20, 17, 34, 49], [9, 30, 34, 20, 23, 35, 3, 39, 2, 17, 19, 45, 27, 44, 48, 49, 42, 8, 37, 43, 13, 32, 36, 33, 31], [5, 28, 45, 25, 30, 22, 7, 36, 34, 17, 27, 19, 4, 35, 13, 16, 37, 46, 43, 41, 12, 15, 1, 21, 3], [45, 21, 40, 11, 39, 20, 14, 22, 37, 24, 32, 43, 28, 6, 33, 34, 8, 48, 44, 13, 4, 29, 42, 27, 10], [2, 40, 41, 6, 35, 7, 15, 44, 5, 37, 19, 48, 46, 3, 39, 11, 9, 31, 45, 16, 38, 17, 47, 12, 43], [29, 4, 15, 30, 18, 1, 42, 40, 24, 22, 39, 27, 16, 36, 34, 45, 12, 2, 49, 48, 20, 32, 38, 3, 33]]\n"
     ]
    }
   ],
   "source": [
    "import random\n",
    "#print(random.randint(1,100))\n",
    "li=[random.sample(range(1,50),25) for var in range(50)]\n",
    "print(li)"
   ]
  },
  {
   "cell_type": "code",
   "execution_count": 15,
   "metadata": {},
   "outputs": [
    {
     "name": "stdout",
     "output_type": "stream",
     "text": [
      "[35, 20, 27, 1, 33, 2, 44, 7, 29, 40, 6, 32, 23, 43, 31, 30, 8, 24, 47, 46, 19, 34, 21, 18, 38, 1, 18, 44, 25, 15, 11, 34, 21, 2, 29, 41, 9, 4, 23, 46, 48, 36, 27, 12, 7, 32, 49, 8, 19, 47, 37, 3, 22, 20, 30, 49, 7, 19, 1, 18, 40, 35, 39, 41, 2, 29, 43, 26, 23, 16, 24, 44, 32, 4, 12, 29, 32, 16, 7, 37, 23, 20, 1, 40, 28, 10, 31, 42, 49, 34, 13, 38, 46, 27, 45, 36, 3, 47, 12, 5, 47, 24, 35, 28, 8, 36, 5, 46, 26, 16, 39, 32, 10, 43, 2, 29, 27, 41, 44, 12, 23, 31, 11, 42, 34, 27, 42, 6, 24, 2, 18, 3, 36, 7, 14, 46, 45, 39, 23, 38, 40, 26, 32, 12, 16, 30, 25, 11, 1, 5, 28, 44, 35, 48, 49, 34, 37, 10, 29, 41, 31, 11, 8, 2, 12, 22, 1, 47, 18, 24, 3, 40, 21, 19, 46, 25, 41, 16, 13, 30, 24, 38, 2, 45, 4, 39, 11, 17, 22, 12, 5, 28, 1, 14, 26, 6, 48, 21, 27, 23, 49, 43, 45, 18, 1, 21, 26, 16, 2, 37, 40, 10, 38, 34, 29, 8, 3, 17, 11, 30, 7, 48, 9, 23, 41, 48, 46, 26, 47, 23, 43, 3, 37, 13, 4, 19, 33, 2, 6, 12, 44, 35, 24, 22, 10, 20, 30, 9, 16, 41, 36, 13, 28, 18, 16, 47, 37, 27, 40, 29, 2, 25, 48, 6, 10, 4, 20, 31, 45, 35, 7, 44, 26, 8, 24, 33, 46, 32, 39, 45, 3, 28, 4, 2, 11, 7, 37, 49, 1, 19, 9, 10, 24, 34, 13, 40, 18, 17, 47, 29, 43, 17, 40, 37, 18, 7, 11, 45, 29, 47, 8, 13, 46, 49, 42, 27, 48, 41, 24, 44, 10, 20, 9, 33, 36, 2, 29, 7, 3, 39, 8, 30, 46, 25, 24, 42, 33, 15, 34, 21, 12, 28, 45, 18, 47, 14, 26, 10, 17, 11, 5, 36, 43, 31, 44, 4, 32, 19, 9, 22, 1, 26, 17, 45, 18, 34, 28, 46, 49, 37, 39, 25, 8, 20, 10, 15, 30, 3, 6, 24, 44, 42, 45, 5, 39, 13, 27, 46, 34, 22, 43, 37, 26, 47, 8, 7, 25, 36, 38, 48, 21, 7, 8, 28, 16, 49, 2, 11, 38, 14, 9, 27, 3, 19, 32, 47, 17, 35, 39, 6, 48, 44, 33, 24, 18, 39, 45, 42, 2, 8, 46, 48, 32, 5, 22, 16, 7, 44, 13, 38, 17, 27, 25, 37, 3, 47, 41, 23, 4, 18, 2, 42, 22, 36, 43, 44, 40, 31, 8, 13, 10, 37, 38, 45, 41, 25, 29, 33, 15, 12, 17, 27, 28, 39, 30, 13, 24, 14, 19, 8, 2, 45, 21, 47, 6, 42, 37, 48, 18, 23, 17, 29, 27, 32, 15, 35, 3, 41, 36, 22, 21, 9, 14, 1, 31, 15, 19, 36, 33, 3, 25, 35, 45, 48, 41, 12, 30, 27, 28, 43, 46, 24, 22, 49, 42, 46, 9, 3, 14, 34, 13, 1, 42, 7, 41, 39, 33, 35, 17, 30, 6, 24, 18, 48, 45, 27, 38, 20, 8, 10, 45, 27, 49, 13, 33, 47, 17, 18, 21, 3, 26, 44, 43, 2, 10, 35, 25, 20, 5, 48, 7, 23, 40, 42, 31, 10, 36, 44, 47, 5, 15, 24, 37, 40, 41, 38, 25, 12, 13, 27, 29, 46, 49, 23, 45, 11, 22, 3, 48, 21, 8, 12, 45, 40, 7, 49, 29, 48, 44, 6, 17, 42, 25, 37, 28, 22, 21, 19, 30, 15, 20, 34, 13, 9, 32, 49, 40, 30, 18, 25, 37, 19, 46, 23, 24, 3, 11, 14, 31, 8, 1, 41, 4, 28, 42, 47, 16, 43, 12, 35, 21, 23, 9, 48, 14, 28, 10, 13, 32, 12, 6, 2, 35, 22, 11, 37, 17, 44, 40, 4, 38, 3, 20, 47, 15, 26, 19, 37, 29, 31, 45, 11, 2, 14, 1, 16, 47, 8, 22, 41, 33, 39, 9, 40, 3, 34, 15, 17, 30, 43, 5, 28, 47, 46, 33, 19, 18, 8, 38, 14, 45, 42, 7, 4, 43, 15, 39, 44, 21, 41, 49, 2, 20, 34, 32, 11, 31, 12, 35, 22, 23, 20, 26, 37, 40, 1, 44, 34, 9, 49, 7, 21, 27, 45, 10, 25, 4, 36, 41, 24, 8, 33, 6, 26, 36, 22, 34, 3, 4, 32, 39, 5, 11, 43, 37, 31, 10, 18, 1, 9, 19, 14, 2, 38, 25, 46, 40, 1, 39, 31, 38, 30, 41, 15, 32, 10, 7, 4, 24, 3, 2, 49, 25, 45, 5, 34, 13, 43, 16, 21, 40, 43, 15, 1, 44, 3, 29, 36, 17, 22, 31, 2, 35, 39, 16, 14, 28, 42, 19, 12, 46, 25, 8, 4, 13, 21, 2, 5, 14, 32, 24, 19, 48, 26, 18, 8, 46, 34, 17, 20, 43, 28, 29, 12, 39, 38, 36, 27, 47, 40, 32, 25, 6, 45, 21, 19, 23, 24, 9, 35, 22, 49, 13, 43, 1, 38, 28, 4, 46, 12, 44, 39, 10, 26, 3, 11, 49, 19, 36, 48, 29, 42, 5, 31, 26, 7, 21, 27, 28, 8, 41, 37, 39, 34, 13, 10, 35, 3, 22, 43, 3, 12, 28, 2, 8, 32, 23, 43, 18, 14, 48, 24, 49, 7, 37, 25, 41, 9, 15, 31, 6, 36, 35, 47, 11, 21, 29, 32, 14, 48, 9, 3, 25, 6, 13, 45, 26, 11, 27, 16, 47, 36, 37, 5, 35, 12, 39, 34, 24, 23, 38, 43, 49, 18, 36, 29, 7, 19, 32, 21, 44, 23, 22, 45, 6, 37, 48, 39, 20, 25, 1, 17, 33, 5, 46, 13, 31, 7, 45, 41, 6, 36, 38, 3, 14, 15, 40, 18, 32, 8, 19, 22, 26, 9, 25, 23, 48, 17, 46, 39, 35, 37, 39, 40, 21, 34, 45, 14, 25, 36, 28, 23, 43, 15, 3, 2, 12, 13, 29, 5, 18, 38, 10, 32, 41, 48, 14, 40, 10, 38, 20, 30, 27, 3, 45, 46, 26, 41, 47, 32, 16, 36, 1, 17, 9, 29, 12, 28, 37, 15, 19, 11, 18, 12, 5, 21, 14, 34, 16, 28, 23, 40, 46, 8, 6, 27, 31, 24, 17, 49, 7, 35, 38, 44, 2, 36, 4, 20, 37, 29, 25, 6, 40, 16, 46, 26, 22, 2, 35, 14, 41, 47, 9, 48, 17, 12, 33, 10, 42, 49, 2, 31, 27, 40, 37, 12, 11, 29, 42, 48, 21, 10, 43, 30, 3, 23, 15, 26, 24, 47, 46, 20, 17, 34, 49, 9, 30, 34, 20, 23, 35, 3, 39, 2, 17, 19, 45, 27, 44, 48, 49, 42, 8, 37, 43, 13, 32, 36, 33, 31, 5, 28, 45, 25, 30, 22, 7, 36, 34, 17, 27, 19, 4, 35, 13, 16, 37, 46, 43, 41, 12, 15, 1, 21, 3, 45, 21, 40, 11, 39, 20, 14, 22, 37, 24, 32, 43, 28, 6, 33, 34, 8, 48, 44, 13, 4, 29, 42, 27, 10, 2, 40, 41, 6, 35, 7, 15, 44, 5, 37, 19, 48, 46, 3, 39, 11, 9, 31, 45, 16, 38, 17, 47, 12, 43, 29, 4, 15, 30, 18, 1, 42, 40, 24, 22, 39, 27, 16, 36, 34, 45, 12, 2, 49, 48, 20, 32, 38, 3, 33]\n"
     ]
    }
   ],
   "source": [
    "li_new = []\n",
    "for var in li:\n",
    "    li_new.extend(var)\n",
    "print(li_new)"
   ]
  },
  {
   "cell_type": "code",
   "execution_count": 13,
   "metadata": {},
   "outputs": [
    {
     "name": "stdout",
     "output_type": "stream",
     "text": [
      "[1, 1, 1, 1, 1, 1, 1, 1, 1, 1, 1, 1, 1, 1, 1, 1, 1, 1, 1, 1, 1, 1, 1, 2, 2, 2, 2, 2, 2, 2, 2, 2, 2, 2, 2, 2, 2, 2, 2, 2, 2, 2, 2, 2, 2, 2, 2, 2, 2, 2, 2, 2, 2, 2, 2, 3, 3, 3, 3, 3, 3, 3, 3, 3, 3, 3, 3, 3, 3, 3, 3, 3, 3, 3, 3, 3, 3, 3, 3, 3, 3, 3, 3, 3, 3, 3, 3, 3, 3, 4, 4, 4, 4, 4, 4, 4, 4, 4, 4, 4, 4, 4, 4, 4, 4, 4, 4, 4, 4, 5, 5, 5, 5, 5, 5, 5, 5, 5, 5, 5, 5, 5, 5, 5, 5, 5, 5, 5, 5, 6, 6, 6, 6, 6, 6, 6, 6, 6, 6, 6, 6, 6, 6, 6, 6, 6, 6, 6, 6, 6, 7, 7, 7, 7, 7, 7, 7, 7, 7, 7, 7, 7, 7, 7, 7, 7, 7, 7, 7, 7, 7, 7, 7, 7, 7, 7, 8, 8, 8, 8, 8, 8, 8, 8, 8, 8, 8, 8, 8, 8, 8, 8, 8, 8, 8, 8, 8, 8, 8, 8, 8, 8, 8, 8, 9, 9, 9, 9, 9, 9, 9, 9, 9, 9, 9, 9, 9, 9, 9, 9, 9, 9, 9, 9, 9, 9, 10, 10, 10, 10, 10, 10, 10, 10, 10, 10, 10, 10, 10, 10, 10, 10, 10, 10, 10, 10, 10, 10, 10, 10, 10, 11, 11, 11, 11, 11, 11, 11, 11, 11, 11, 11, 11, 11, 11, 11, 11, 11, 11, 11, 11, 11, 11, 11, 12, 12, 12, 12, 12, 12, 12, 12, 12, 12, 12, 12, 12, 12, 12, 12, 12, 12, 12, 12, 12, 12, 12, 12, 12, 12, 12, 12, 12, 13, 13, 13, 13, 13, 13, 13, 13, 13, 13, 13, 13, 13, 13, 13, 13, 13, 13, 13, 13, 13, 13, 13, 13, 13, 14, 14, 14, 14, 14, 14, 14, 14, 14, 14, 14, 14, 14, 14, 14, 14, 14, 14, 14, 14, 14, 14, 15, 15, 15, 15, 15, 15, 15, 15, 15, 15, 15, 15, 15, 15, 15, 15, 15, 15, 15, 15, 15, 16, 16, 16, 16, 16, 16, 16, 16, 16, 16, 16, 16, 16, 16, 16, 16, 16, 16, 16, 16, 16, 17, 17, 17, 17, 17, 17, 17, 17, 17, 17, 17, 17, 17, 17, 17, 17, 17, 17, 17, 17, 17, 17, 17, 17, 17, 17, 18, 18, 18, 18, 18, 18, 18, 18, 18, 18, 18, 18, 18, 18, 18, 18, 18, 18, 18, 18, 18, 18, 18, 18, 18, 18, 19, 19, 19, 19, 19, 19, 19, 19, 19, 19, 19, 19, 19, 19, 19, 19, 19, 19, 19, 19, 19, 19, 19, 19, 19, 20, 20, 20, 20, 20, 20, 20, 20, 20, 20, 20, 20, 20, 20, 20, 20, 20, 20, 20, 20, 20, 21, 21, 21, 21, 21, 21, 21, 21, 21, 21, 21, 21, 21, 21, 21, 21, 21, 21, 21, 21, 21, 21, 21, 21, 21, 21, 22, 22, 22, 22, 22, 22, 22, 22, 22, 22, 22, 22, 22, 22, 22, 22, 22, 22, 22, 22, 22, 22, 22, 22, 22, 23, 23, 23, 23, 23, 23, 23, 23, 23, 23, 23, 23, 23, 23, 23, 23, 23, 23, 23, 23, 23, 23, 23, 23, 23, 24, 24, 24, 24, 24, 24, 24, 24, 24, 24, 24, 24, 24, 24, 24, 24, 24, 24, 24, 24, 24, 24, 24, 24, 24, 24, 24, 24, 25, 25, 25, 25, 25, 25, 25, 25, 25, 25, 25, 25, 25, 25, 25, 25, 25, 25, 25, 25, 25, 25, 25, 25, 25, 25, 26, 26, 26, 26, 26, 26, 26, 26, 26, 26, 26, 26, 26, 26, 26, 26, 26, 26, 26, 26, 26, 26, 27, 27, 27, 27, 27, 27, 27, 27, 27, 27, 27, 27, 27, 27, 27, 27, 27, 27, 27, 27, 27, 27, 27, 27, 27, 27, 27, 27, 28, 28, 28, 28, 28, 28, 28, 28, 28, 28, 28, 28, 28, 28, 28, 28, 28, 28, 28, 28, 28, 28, 28, 28, 28, 29, 29, 29, 29, 29, 29, 29, 29, 29, 29, 29, 29, 29, 29, 29, 29, 29, 29, 29, 29, 29, 29, 29, 29, 29, 29, 29, 30, 30, 30, 30, 30, 30, 30, 30, 30, 30, 30, 30, 30, 30, 30, 30, 30, 30, 30, 30, 31, 31, 31, 31, 31, 31, 31, 31, 31, 31, 31, 31, 31, 31, 31, 31, 31, 31, 31, 31, 31, 31, 32, 32, 32, 32, 32, 32, 32, 32, 32, 32, 32, 32, 32, 32, 32, 32, 32, 32, 32, 32, 32, 32, 32, 32, 32, 32, 32, 33, 33, 33, 33, 33, 33, 33, 33, 33, 33, 33, 33, 33, 33, 33, 33, 33, 33, 34, 34, 34, 34, 34, 34, 34, 34, 34, 34, 34, 34, 34, 34, 34, 34, 34, 34, 34, 34, 34, 34, 34, 34, 34, 34, 34, 35, 35, 35, 35, 35, 35, 35, 35, 35, 35, 35, 35, 35, 35, 35, 35, 35, 35, 35, 35, 35, 35, 35, 35, 35, 36, 36, 36, 36, 36, 36, 36, 36, 36, 36, 36, 36, 36, 36, 36, 36, 36, 36, 36, 36, 36, 36, 36, 36, 36, 36, 36, 37, 37, 37, 37, 37, 37, 37, 37, 37, 37, 37, 37, 37, 37, 37, 37, 37, 37, 37, 37, 37, 37, 37, 37, 37, 37, 37, 37, 37, 37, 37, 37, 38, 38, 38, 38, 38, 38, 38, 38, 38, 38, 38, 38, 38, 38, 38, 38, 38, 38, 38, 38, 38, 38, 38, 38, 39, 39, 39, 39, 39, 39, 39, 39, 39, 39, 39, 39, 39, 39, 39, 39, 39, 39, 39, 39, 39, 39, 39, 39, 39, 39, 39, 39, 40, 40, 40, 40, 40, 40, 40, 40, 40, 40, 40, 40, 40, 40, 40, 40, 40, 40, 40, 40, 40, 40, 40, 40, 40, 40, 40, 40, 40, 41, 41, 41, 41, 41, 41, 41, 41, 41, 41, 41, 41, 41, 41, 41, 41, 41, 41, 41, 41, 41, 41, 41, 41, 41, 41, 41, 42, 42, 42, 42, 42, 42, 42, 42, 42, 42, 42, 42, 42, 42, 42, 42, 42, 42, 42, 42, 42, 42, 43, 43, 43, 43, 43, 43, 43, 43, 43, 43, 43, 43, 43, 43, 43, 43, 43, 43, 43, 43, 43, 43, 43, 43, 43, 43, 43, 43, 44, 44, 44, 44, 44, 44, 44, 44, 44, 44, 44, 44, 44, 44, 44, 44, 44, 44, 44, 44, 44, 44, 44, 44, 44, 44, 45, 45, 45, 45, 45, 45, 45, 45, 45, 45, 45, 45, 45, 45, 45, 45, 45, 45, 45, 45, 45, 45, 45, 45, 45, 45, 45, 45, 45, 45, 45, 45, 45, 46, 46, 46, 46, 46, 46, 46, 46, 46, 46, 46, 46, 46, 46, 46, 46, 46, 46, 46, 46, 46, 46, 46, 46, 46, 46, 46, 46, 46, 46, 47, 47, 47, 47, 47, 47, 47, 47, 47, 47, 47, 47, 47, 47, 47, 47, 47, 47, 47, 47, 47, 47, 47, 47, 47, 47, 47, 48, 48, 48, 48, 48, 48, 48, 48, 48, 48, 48, 48, 48, 48, 48, 48, 48, 48, 48, 48, 48, 48, 48, 48, 48, 48, 48, 48, 48, 48, 49, 49, 49, 49, 49, 49, 49, 49, 49, 49, 49, 49, 49, 49, 49, 49, 49, 49, 49, 49, 49, 49, 49, 49, 49, 49]\n"
     ]
    }
   ],
   "source": [
    "li_new.sort()\n",
    "print(li_new)"
   ]
  },
  {
   "cell_type": "code",
   "execution_count": 16,
   "metadata": {},
   "outputs": [
    {
     "data": {
      "text/plain": [
       "20"
      ]
     },
     "execution_count": 16,
     "metadata": {},
     "output_type": "execute_result"
    }
   ],
   "source": [
    "li_new.count(30)"
   ]
  },
  {
   "cell_type": "code",
   "execution_count": 17,
   "metadata": {},
   "outputs": [
    {
     "name": "stdout",
     "output_type": "stream",
     "text": [
      "['__add__', '__class__', '__contains__', '__delattr__', '__delitem__', '__dir__', '__doc__', '__eq__', '__format__', '__ge__', '__getattribute__', '__getitem__', '__gt__', '__hash__', '__iadd__', '__imul__', '__init__', '__init_subclass__', '__iter__', '__le__', '__len__', '__lt__', '__mul__', '__ne__', '__new__', '__reduce__', '__reduce_ex__', '__repr__', '__reversed__', '__rmul__', '__setattr__', '__setitem__', '__sizeof__', '__str__', '__subclasshook__', 'append', 'clear', 'copy', 'count', 'extend', 'index', 'insert', 'pop', 'remove', 'reverse', 'sort']\n"
     ]
    }
   ],
   "source": [
    "print(dir(list))"
   ]
  },
  {
   "cell_type": "code",
   "execution_count": 18,
   "metadata": {},
   "outputs": [
    {
     "name": "stdout",
     "output_type": "stream",
     "text": [
      "['__add__', '__class__', '__contains__', '__delattr__', '__dir__', '__doc__', '__eq__', '__format__', '__ge__', '__getattribute__', '__getitem__', '__getnewargs__', '__gt__', '__hash__', '__init__', '__init_subclass__', '__iter__', '__le__', '__len__', '__lt__', '__mod__', '__mul__', '__ne__', '__new__', '__reduce__', '__reduce_ex__', '__repr__', '__rmod__', '__rmul__', '__setattr__', '__sizeof__', '__str__', '__subclasshook__', 'capitalize', 'casefold', 'center', 'count', 'encode', 'endswith', 'expandtabs', 'find', 'format', 'format_map', 'index', 'isalnum', 'isalpha', 'isdecimal', 'isdigit', 'isidentifier', 'islower', 'isnumeric', 'isprintable', 'isspace', 'istitle', 'isupper', 'join', 'ljust', 'lower', 'lstrip', 'maketrans', 'partition', 'replace', 'rfind', 'rindex', 'rjust', 'rpartition', 'rsplit', 'rstrip', 'split', 'splitlines', 'startswith', 'strip', 'swapcase', 'title', 'translate', 'upper', 'zfill']\n"
     ]
    }
   ],
   "source": [
    "print(dir(str))"
   ]
  },
  {
   "cell_type": "code",
   "execution_count": 10,
   "metadata": {},
   "outputs": [
    {
     "data": {
      "text/plain": [
       "True"
      ]
     },
     "execution_count": 10,
     "metadata": {},
     "output_type": "execute_result"
    }
   ],
   "source": [
    "s='pythonisawesome'\n",
    "s2='python is awesome'\n",
    "s.isidentifier()\n"
   ]
  },
  {
   "cell_type": "code",
   "execution_count": 22,
   "metadata": {},
   "outputs": [
    {
     "data": {
      "text/plain": [
       "'shaahil is sitting beside meakkad bakkad'"
      ]
     },
     "execution_count": 22,
     "metadata": {},
     "output_type": "execute_result"
    }
   ],
   "source": [
    "s='shaahil is sitting beside me'\n",
    "s.partition(' ')\n",
    "s+ 'akkad bakkad'"
   ]
  },
  {
   "cell_type": "code",
   "execution_count": 19,
   "metadata": {},
   "outputs": [
    {
     "data": {
      "text/plain": [
       "'1mohit2mohit3'"
      ]
     },
     "execution_count": 19,
     "metadata": {},
     "output_type": "execute_result"
    }
   ],
   "source": [
    "s1=\"mohit\"\n",
    "s1.join([\"1\",\"2\",\"3\"])"
   ]
  },
  {
   "cell_type": "code",
   "execution_count": 23,
   "metadata": {},
   "outputs": [
    {
     "data": {
      "text/plain": [
       "['shaahil', 'is', 'sitting', 'beside', 'me']"
      ]
     },
     "execution_count": 23,
     "metadata": {},
     "output_type": "execute_result"
    }
   ],
   "source": [
    "s.split()"
   ]
  },
  {
   "cell_type": "code",
   "execution_count": 29,
   "metadata": {},
   "outputs": [
    {
     "data": {
      "text/plain": [
       "{119: 104, 104: 119, 32: None}"
      ]
     },
     "execution_count": 29,
     "metadata": {},
     "output_type": "execute_result"
    }
   ],
   "source": [
    "s1='wh'\n",
    "s2='hw'\n",
    "s3=' '\n",
    "trg='hello world'\n",
    "s4=trg.maketrans(s1,s2,s3)\n",
    "s4\n"
   ]
  },
  {
   "cell_type": "code",
   "execution_count": 30,
   "metadata": {},
   "outputs": [
    {
     "name": "stdout",
     "output_type": "stream",
     "text": [
      "{119: 104, 104: 119, 32: None}\n"
     ]
    }
   ],
   "source": [
    "print(s4)"
   ]
  },
  {
   "cell_type": "code",
   "execution_count": 31,
   "metadata": {},
   "outputs": [
    {
     "ename": "NameError",
     "evalue": "name 'translate' is not defined",
     "output_type": "error",
     "traceback": [
      "\u001b[1;31m---------------------------------------------------------------------------\u001b[0m",
      "\u001b[1;31mNameError\u001b[0m                                 Traceback (most recent call last)",
      "\u001b[1;32m<ipython-input-31-15b14a6aedf8>\u001b[0m in \u001b[0;36m<module>\u001b[1;34m()\u001b[0m\n\u001b[1;32m----> 1\u001b[1;33m \u001b[0mprint\u001b[0m\u001b[1;33m(\u001b[0m\u001b[0mtranslate\u001b[0m\u001b[1;33m(\u001b[0m\u001b[0ms4\u001b[0m\u001b[1;33m)\u001b[0m\u001b[1;33m)\u001b[0m\u001b[1;33m\u001b[0m\u001b[0m\n\u001b[0m",
      "\u001b[1;31mNameError\u001b[0m: name 'translate' is not defined"
     ]
    }
   ],
   "source": [
    "print(translate(s4))"
   ]
  },
  {
   "cell_type": "code",
   "execution_count": 37,
   "metadata": {},
   "outputs": [
    {
     "name": "stdout",
     "output_type": "stream",
     "text": [
      "wellohorld\n"
     ]
    }
   ],
   "source": [
    "print(trg.translate(s4))"
   ]
  },
  {
   "cell_type": "code",
   "execution_count": 41,
   "metadata": {},
   "outputs": [
    {
     "data": {
      "text/plain": [
       "True"
      ]
     },
     "execution_count": 41,
     "metadata": {},
     "output_type": "execute_result"
    }
   ],
   "source": [
    "a='abc'\n",
    "b='abc'\n",
    "a is b"
   ]
  },
  {
   "cell_type": "markdown",
   "metadata": {},
   "source": [
    "Dictionary :"
   ]
  },
  {
   "cell_type": "code",
   "execution_count": 3,
   "metadata": {},
   "outputs": [
    {
     "name": "stdout",
     "output_type": "stream",
     "text": [
      "Names=[1]mohit\n",
      "Names=[2]shahil\n",
      "Names=[3]ajay\n",
      "Names=[4]rohit\n",
      "Names=[5]vaibhav\n",
      "Names=[6]rishi\n",
      "Names=[7]mkbhd\n",
      "Names=[8]mrinal\n",
      "Names=[9]technical guruji\n",
      "Names=[10]tech burner\n"
     ]
    }
   ],
   "source": [
    "names = [input(f\"Names=[{counter}]\")for counter in range(1,11)]"
   ]
  },
  {
   "cell_type": "code",
   "execution_count": 4,
   "metadata": {},
   "outputs": [
    {
     "name": "stdout",
     "output_type": "stream",
     "text": [
      "['mohit', 'shahil', 'ajay', 'rohit', 'vaibhav', 'rishi', 'mkbhd', 'mrinal', 'technical guruji', 'tech burner']\n"
     ]
    }
   ],
   "source": [
    "print(names)"
   ]
  },
  {
   "cell_type": "code",
   "execution_count": 6,
   "metadata": {},
   "outputs": [
    {
     "name": "stdout",
     "output_type": "stream",
     "text": [
      "mohit, shahil, ajay, rohit, vaibhav, rishi, mkbhd, mrinal, technical guruji, tech burner\n"
     ]
    }
   ],
   "source": [
    "print(*names, sep=', ')"
   ]
  },
  {
   "cell_type": "code",
   "execution_count": 8,
   "metadata": {},
   "outputs": [
    {
     "name": "stdout",
     "output_type": "stream",
     "text": [
      "Names=[1]ravi\n",
      "Names=[2]unbox therapy\n",
      "Names=[3]nihgahiga\n",
      "Names=[4]random\n",
      "Names=[5]bhrahm\n",
      "Names=[6]dragon ball\n",
      "Names=[7]bleach\n",
      "Names=[8]death note\n",
      "Names=[9]naruto\n",
      "Names=[10]python\n"
     ]
    }
   ],
   "source": [
    "names2 = [input(\"Names=[{}]\".format(counter)) for counter in range(1,11)]"
   ]
  },
  {
   "cell_type": "code",
   "execution_count": 4,
   "metadata": {},
   "outputs": [
    {
     "ename": "NameError",
     "evalue": "name 'names2' is not defined",
     "output_type": "error",
     "traceback": [
      "\u001b[1;31m---------------------------------------------------------------------------\u001b[0m",
      "\u001b[1;31mNameError\u001b[0m                                 Traceback (most recent call last)",
      "\u001b[1;32m<ipython-input-4-70da52c5cf57>\u001b[0m in \u001b[0;36m<module>\u001b[1;34m()\u001b[0m\n\u001b[0;32m      1\u001b[0m \u001b[1;31m#print(*names2,sep=', ')\u001b[0m\u001b[1;33m\u001b[0m\u001b[1;33m\u001b[0m\u001b[0m\n\u001b[1;32m----> 2\u001b[1;33m \u001b[0mpprint\u001b[0m\u001b[1;33m(\u001b[0m\u001b[0mnames2\u001b[0m\u001b[1;33m,\u001b[0m \u001b[0msep\u001b[0m\u001b[1;33m=\u001b[0m\u001b[1;34m', '\u001b[0m\u001b[1;33m)\u001b[0m\u001b[1;33m\u001b[0m\u001b[0m\n\u001b[0m",
      "\u001b[1;31mNameError\u001b[0m: name 'names2' is not defined"
     ]
    }
   ],
   "source": [
    "#print(*names2,sep=', ')\n",
    "pprint(names2, sep=', ')"
   ]
  },
  {
   "cell_type": "code",
   "execution_count": 12,
   "metadata": {},
   "outputs": [],
   "source": [
    "names2[4]='brahm'"
   ]
  },
  {
   "cell_type": "code",
   "execution_count": 14,
   "metadata": {},
   "outputs": [
    {
     "name": "stdout",
     "output_type": "stream",
     "text": [
      "mohit\n",
      "shahil\n",
      "ajay\n",
      "rohit\n",
      "vaibhav\n"
     ]
    }
   ],
   "source": [
    "for values in names[0:5]:\n",
    "    print(values,sep=', ')\n"
   ]
  },
  {
   "cell_type": "code",
   "execution_count": 15,
   "metadata": {},
   "outputs": [
    {
     "name": "stdout",
     "output_type": "stream",
     "text": [
      "tech burner, technical guruji, mrinal, mkbhd, rishi, vaibhav, rohit, ajay, shahil, "
     ]
    }
   ],
   "source": [
    "for val in names[-1:0:-1]:\n",
    "    print(val,end=', ')"
   ]
  },
  {
   "cell_type": "code",
   "execution_count": 16,
   "metadata": {},
   "outputs": [
    {
     "name": "stdout",
     "output_type": "stream",
     "text": [
      "dragon ball, bleach, death note, naruto, python, "
     ]
    }
   ],
   "source": [
    "for val in names2[-5:]:\n",
    "    print(val,end=', ')"
   ]
  },
  {
   "cell_type": "code",
   "execution_count": 11,
   "metadata": {},
   "outputs": [
    {
     "name": "stdout",
     "output_type": "stream",
     "text": [
      "1\t2\t3\t4\n",
      "6\t7\t8\t9\n",
      "11\t12\t13\t14\n",
      "16\t17\t18\t19\n"
     ]
    }
   ],
   "source": [
    "y=[(1,2,3,4),(6,7,8,9),(11,12,13,14),(16,17,18,19)]\n",
    "for p,q,r,s in y:\n",
    "    print(p,q,r,s, sep='\\t')"
   ]
  },
  {
   "cell_type": "code",
   "execution_count": 21,
   "metadata": {},
   "outputs": [],
   "source": [
    "z=[1,2,3,4]\n",
    "li= list(zip(z,y))"
   ]
  },
  {
   "cell_type": "code",
   "execution_count": 23,
   "metadata": {},
   "outputs": [
    {
     "name": "stdout",
     "output_type": "stream",
     "text": [
      "[(1, (1, 2, 3, 4)), (2, (6, 7, 8, 9)), (3, (11, 12, 13, 14)), (4, (16, 17, 18, 19))]\n"
     ]
    }
   ],
   "source": [
    "print(li)"
   ]
  },
  {
   "cell_type": "code",
   "execution_count": 1,
   "metadata": {},
   "outputs": [
    {
     "ename": "NameError",
     "evalue": "name 'names' is not defined",
     "output_type": "error",
     "traceback": [
      "\u001b[1;31m---------------------------------------------------------------------------\u001b[0m",
      "\u001b[1;31mNameError\u001b[0m                                 Traceback (most recent call last)",
      "\u001b[1;32m<ipython-input-1-49d1f1a1e1a0>\u001b[0m in \u001b[0;36m<module>\u001b[1;34m()\u001b[0m\n\u001b[1;32m----> 1\u001b[1;33m \u001b[0mprint\u001b[0m\u001b[1;33m(\u001b[0m\u001b[0mnames\u001b[0m\u001b[1;33m)\u001b[0m\u001b[1;33m\u001b[0m\u001b[0m\n\u001b[0m",
      "\u001b[1;31mNameError\u001b[0m: name 'names' is not defined"
     ]
    }
   ],
   "source": [
    "print(names)"
   ]
  },
  {
   "cell_type": "code",
   "execution_count": 3,
   "metadata": {},
   "outputs": [
    {
     "ename": "NameError",
     "evalue": "name 'names2' is not defined",
     "output_type": "error",
     "traceback": [
      "\u001b[1;31m---------------------------------------------------------------------------\u001b[0m",
      "\u001b[1;31mNameError\u001b[0m                                 Traceback (most recent call last)",
      "\u001b[1;32m<ipython-input-3-23e0995df35a>\u001b[0m in \u001b[0;36m<module>\u001b[1;34m()\u001b[0m\n\u001b[0;32m      1\u001b[0m \u001b[1;32mfrom\u001b[0m \u001b[0mpprint\u001b[0m \u001b[1;32mimport\u001b[0m \u001b[0mpprint\u001b[0m\u001b[1;33m\u001b[0m\u001b[0m\n\u001b[1;32m----> 2\u001b[1;33m \u001b[0mpprint\u001b[0m\u001b[1;33m(\u001b[0m\u001b[0mnames2\u001b[0m\u001b[1;33m)\u001b[0m\u001b[1;33m\u001b[0m\u001b[0m\n\u001b[0m",
      "\u001b[1;31mNameError\u001b[0m: name 'names2' is not defined"
     ]
    }
   ],
   "source": [
    "from pprint import pprint\n",
    "pprint(names2)"
   ]
  },
  {
   "cell_type": "code",
   "execution_count": 6,
   "metadata": {},
   "outputs": [
    {
     "name": "stdout",
     "output_type": "stream",
     "text": [
      "['rajesh', 'yogendra', 'mohit']\n"
     ]
    }
   ],
   "source": [
    "from pprint import pprint\n",
    "name=['rajesh','yogendra','mohit']\n",
    "pprint(name)"
   ]
  },
  {
   "cell_type": "code",
   "execution_count": 9,
   "metadata": {},
   "outputs": [
    {
     "name": "stdout",
     "output_type": "stream",
     "text": [
      "Names=(0)shahil\n",
      "Names=(1)yogendra\n",
      "Names=(2)mohit\n",
      "Names=(3)ajay\n",
      "Names=(4)xyz\n"
     ]
    }
   ],
   "source": [
    "names3=[input(f'Names=({counter})') for counter in range(0,5)]"
   ]
  },
  {
   "cell_type": "code",
   "execution_count": 12,
   "metadata": {},
   "outputs": [
    {
     "name": "stdout",
     "output_type": "stream",
     "text": [
      "['__class__', '__contains__', '__delattr__', '__delitem__', '__dir__', '__doc__', '__eq__', '__format__', '__ge__', '__getattribute__', '__getitem__', '__gt__', '__hash__', '__init__', '__init_subclass__', '__iter__', '__le__', '__len__', '__lt__', '__ne__', '__new__', '__reduce__', '__reduce_ex__', '__repr__', '__setattr__', '__setitem__', '__sizeof__', '__str__', '__subclasshook__', 'clear', 'copy', 'fromkeys', 'get', 'items', 'keys', 'pop', 'popitem', 'setdefault', 'update', 'values']\n"
     ]
    }
   ],
   "source": [
    "print(dir(dict))"
   ]
  },
  {
   "cell_type": "code",
   "execution_count": 16,
   "metadata": {},
   "outputs": [
    {
     "name": "stdout",
     "output_type": "stream",
     "text": [
      "{'name1': 'mohit', 'name2': 'shahil', 'name3': 'yogendra', 'name4': 'ajay', 0: 'number0', 'aname': 'firstname'}\n"
     ]
    }
   ],
   "source": [
    "di={'name1':'mohit',\n",
    "    'name2':'shahil',\n",
    "    'name3':'yogendra',\n",
    "    'name4':'ajay',\n",
    "    0:'number0',\n",
    "    'aname':'firstname',\n",
    "    }\n",
    "print(di)"
   ]
  },
  {
   "cell_type": "code",
   "execution_count": 17,
   "metadata": {},
   "outputs": [
    {
     "name": "stdout",
     "output_type": "stream",
     "text": [
      "{0: 'number0',\n",
      " 'aname': 'firstname',\n",
      " 'name1': 'mohit',\n",
      " 'name2': 'shahil',\n",
      " 'name3': 'yogendra',\n",
      " 'name4': 'ajay'}\n"
     ]
    }
   ],
   "source": [
    "pprint(di)"
   ]
  },
  {
   "cell_type": "code",
   "execution_count": 18,
   "metadata": {},
   "outputs": [
    {
     "name": "stdout",
     "output_type": "stream",
     "text": [
      "name1 name2 name3 name4 0 aname\n"
     ]
    }
   ],
   "source": [
    "di_copy=di.copy()\n",
    "print(*di_copy)"
   ]
  },
  {
   "cell_type": "code",
   "execution_count": 19,
   "metadata": {},
   "outputs": [
    {
     "data": {
      "text/plain": [
       "{'name1': 'mohit',\n",
       " 'name2': 'shahil',\n",
       " 'name3': 'yogendra',\n",
       " 'name4': 'ajay',\n",
       " 0: 'number0',\n",
       " 'aname': 'firstname'}"
      ]
     },
     "execution_count": 19,
     "metadata": {},
     "output_type": "execute_result"
    }
   ],
   "source": [
    "di_copy"
   ]
  },
  {
   "cell_type": "code",
   "execution_count": 32,
   "metadata": {},
   "outputs": [
    {
     "name": "stdout",
     "output_type": "stream",
     "text": [
      "{'name1': 'mohit', 'name2': 'shahil', 'name3': 'yogendra', 'name4': 'ajay', 'aname': 'firstname'}\n"
     ]
    }
   ],
   "source": [
    "del di_copy[0]\n",
    "print(di_copy)"
   ]
  },
  {
   "cell_type": "code",
   "execution_count": 35,
   "metadata": {},
   "outputs": [
    {
     "name": "stdout",
     "output_type": "stream",
     "text": [
      "name4 ajay\n",
      "name3 yogendra\n",
      "name2 shahil\n",
      "name1 mohit\n",
      "aname firstname\n"
     ]
    }
   ],
   "source": [
    "for key in sorted(di_copy.keys(),reverse=True):\n",
    "    print(key,di_copy[key])"
   ]
  },
  {
   "cell_type": "code",
   "execution_count": 1,
   "metadata": {},
   "outputs": [
    {
     "name": "stdout",
     "output_type": "stream",
     "text": [
      "['__class__', '__contains__', '__delattr__', '__delitem__', '__dir__', '__doc__', '__eq__', '__format__', '__ge__', '__getattribute__', '__getitem__', '__gt__', '__hash__', '__init__', '__init_subclass__', '__iter__', '__le__', '__len__', '__lt__', '__ne__', '__new__', '__reduce__', '__reduce_ex__', '__repr__', '__setattr__', '__setitem__', '__sizeof__', '__str__', '__subclasshook__', 'clear', 'copy', 'fromkeys', 'get', 'items', 'keys', 'pop', 'popitem', 'setdefault', 'update', 'values']\n"
     ]
    }
   ],
   "source": [
    "print(dir(dict))"
   ]
  },
  {
   "cell_type": "code",
   "execution_count": 4,
   "metadata": {},
   "outputs": [
    {
     "name": "stdout",
     "output_type": "stream",
     "text": [
      "name :[1]mohit\n",
      "name :[2]shaurya\n",
      "name :[3]abra\n",
      "name :[4]ka\n",
      "name :[5]dabra\n"
     ]
    }
   ],
   "source": [
    "d=[input(f\"name :[{counter}]\") for counter in range(1,6)]\n"
   ]
  },
  {
   "cell_type": "code",
   "execution_count": 7,
   "metadata": {},
   "outputs": [
    {
     "name": "stdout",
     "output_type": "stream",
     "text": [
      "mohit, shaurya, abra, ka, dabra\n"
     ]
    }
   ],
   "source": [
    "print(*d, sep=', ')"
   ]
  },
  {
   "cell_type": "code",
   "execution_count": 8,
   "metadata": {},
   "outputs": [
    {
     "name": "stdout",
     "output_type": "stream",
     "text": [
      "mohit shaurya abra ka\n"
     ]
    }
   ],
   "source": [
    "d.pop()\n",
    "print(*d)"
   ]
  },
  {
   "cell_type": "code",
   "execution_count": 3,
   "metadata": {},
   "outputs": [
    {
     "name": "stdout",
     "output_type": "stream",
     "text": [
      "[19, 63, 99, 7, 53, 64, 31, 29, 28, 9]\n",
      "[12, 63, 6, 14, 57, 16, 17, 94, 35, 78]\n",
      "[5, 3, 15, 25, 19, 97, 87, 28, 50, 51]\n",
      "[5, 92, 40, 34, 27, 9, 49, 7, 68, 18]\n",
      "[43, 8, 67, 6, 1, 61, 9, 16, 40, 85]\n",
      "[95, 20, 40, 49, 8, 51, 16, 9, 10, 83]\n",
      "[4, 63, 89, 80, 39, 68, 55, 17, 19, 3]\n",
      "[16, 64, 29, 78, 6, 76, 61, 72, 58, 79]\n",
      "[18, 13, 35, 63, 22, 30, 32, 23, 24, 15]\n",
      "[50, 49, 56, 37, 58, 11, 88, 52, 43, 12]\n",
      "0\n"
     ]
    }
   ],
   "source": [
    "import random\n",
    "l=[random.sample(range(1,100),10) for var in range(10)]\n",
    "print(*l, sep='\\n')\n",
    "print(l[0].count(11))"
   ]
  },
  {
   "cell_type": "code",
   "execution_count": 4,
   "metadata": {},
   "outputs": [
    {
     "name": "stdout",
     "output_type": "stream",
     "text": [
      "1\n"
     ]
    }
   ],
   "source": [
    "print(l[0].count(99))"
   ]
  },
  {
   "cell_type": "code",
   "execution_count": 5,
   "metadata": {},
   "outputs": [
    {
     "name": "stdout",
     "output_type": "stream",
     "text": [
      "['__add__', '__class__', '__contains__', '__delattr__', '__delitem__', '__dir__', '__doc__', '__eq__', '__format__', '__ge__', '__getattribute__', '__getitem__', '__gt__', '__hash__', '__iadd__', '__imul__', '__init__', '__init_subclass__', '__iter__', '__le__', '__len__', '__lt__', '__mul__', '__ne__', '__new__', '__reduce__', '__reduce_ex__', '__repr__', '__reversed__', '__rmul__', '__setattr__', '__setitem__', '__sizeof__', '__str__', '__subclasshook__', 'append', 'clear', 'copy', 'count', 'extend', 'index', 'insert', 'pop', 'remove', 'reverse', 'sort']\n"
     ]
    }
   ],
   "source": [
    "print(dir(l))"
   ]
  },
  {
   "cell_type": "code",
   "execution_count": 5,
   "metadata": {},
   "outputs": [
    {
     "name": "stdout",
     "output_type": "stream",
     "text": [
      "['__class__', '__contains__', '__delattr__', '__delitem__', '__dir__', '__doc__', '__eq__', '__format__', '__ge__', '__getattribute__', '__getitem__', '__gt__', '__hash__', '__init__', '__init_subclass__', '__iter__', '__le__', '__len__', '__lt__', '__ne__', '__new__', '__reduce__', '__reduce_ex__', '__repr__', '__setattr__', '__setitem__', '__sizeof__', '__str__', '__subclasshook__', 'clear', 'copy', 'fromkeys', 'get', 'items', 'keys', 'pop', 'popitem', 'setdefault', 'update', 'values']\n"
     ]
    }
   ],
   "source": [
    "print(dir(dict))"
   ]
  },
  {
   "cell_type": "code",
   "execution_count": 10,
   "metadata": {},
   "outputs": [
    {
     "ename": "AttributeError",
     "evalue": "'dict' object has no attribute 'setattr'",
     "output_type": "error",
     "traceback": [
      "\u001b[1;31m---------------------------------------------------------------------------\u001b[0m",
      "\u001b[1;31mAttributeError\u001b[0m                            Traceback (most recent call last)",
      "\u001b[1;32m<ipython-input-10-fc706149010c>\u001b[0m in \u001b[0;36m<module>\u001b[1;34m()\u001b[0m\n\u001b[0;32m      2\u001b[0m \u001b[0md\u001b[0m\u001b[1;33m.\u001b[0m\u001b[0msetdefault\u001b[0m\u001b[1;33m(\u001b[0m\u001b[1;34m'empty'\u001b[0m\u001b[1;33m)\u001b[0m\u001b[1;33m\u001b[0m\u001b[0m\n\u001b[0;32m      3\u001b[0m \u001b[0md\u001b[0m\u001b[1;33m[\u001b[0m\u001b[1;34m'first'\u001b[0m\u001b[1;33m]\u001b[0m\u001b[1;33m=\u001b[0m\u001b[1;34m'one'\u001b[0m\u001b[1;33m\u001b[0m\u001b[0m\n\u001b[1;32m----> 4\u001b[1;33m \u001b[0md\u001b[0m\u001b[1;33m.\u001b[0m\u001b[0msetattr\u001b[0m\u001b[1;33m(\u001b[0m\u001b[1;34m'second'\u001b[0m\u001b[1;33m)\u001b[0m\u001b[1;33m\u001b[0m\u001b[0m\n\u001b[0m\u001b[0;32m      5\u001b[0m \u001b[0mprint\u001b[0m\u001b[1;33m(\u001b[0m\u001b[0md\u001b[0m\u001b[1;33m)\u001b[0m\u001b[1;33m\u001b[0m\u001b[0m\n\u001b[0;32m      6\u001b[0m \u001b[1;33m\u001b[0m\u001b[0m\n",
      "\u001b[1;31mAttributeError\u001b[0m: 'dict' object has no attribute 'setattr'"
     ]
    }
   ],
   "source": [
    "\n",
    "print(d)\n",
    "\n",
    "             "
   ]
  },
  {
   "cell_type": "code",
   "execution_count": 1,
   "metadata": {},
   "outputs": [
    {
     "ename": "NameError",
     "evalue": "name 'raw_input' is not defined",
     "output_type": "error",
     "traceback": [
      "\u001b[1;31m---------------------------------------------------------------------------\u001b[0m",
      "\u001b[1;31mNameError\u001b[0m                                 Traceback (most recent call last)",
      "\u001b[1;32m<ipython-input-1-5a52278f7185>\u001b[0m in \u001b[0;36m<module>\u001b[1;34m()\u001b[0m\n\u001b[1;32m----> 1\u001b[1;33m \u001b[0mn\u001b[0m\u001b[1;33m=\u001b[0m\u001b[0mint\u001b[0m\u001b[1;33m(\u001b[0m\u001b[0mraw_input\u001b[0m\u001b[1;33m(\u001b[0m\u001b[1;33m)\u001b[0m\u001b[1;33m)\u001b[0m\u001b[1;33m\u001b[0m\u001b[0m\n\u001b[0m\u001b[0;32m      2\u001b[0m \u001b[0mprint\u001b[0m\u001b[1;33m(\u001b[0m\u001b[1;34m'n= '\u001b[0m\u001b[1;33m,\u001b[0m\u001b[0mn\u001b[0m\u001b[1;33m)\u001b[0m\u001b[1;33m\u001b[0m\u001b[0m\n",
      "\u001b[1;31mNameError\u001b[0m: name 'raw_input' is not defined"
     ]
    }
   ],
   "source": [
    "n=int(raw_input())\n",
    "print('n= ',n)\n"
   ]
  },
  {
   "cell_type": "code",
   "execution_count": 4,
   "metadata": {},
   "outputs": [
    {
     "name": "stdout",
     "output_type": "stream",
     "text": [
      "(0, 1)\n",
      "(1, 2)\n",
      "(2, 3)\n",
      "(3, 4)\n",
      "(4, 5)\n",
      "(5, 6)\n",
      "(6, 7)\n",
      "(7, 8)\n",
      "(8, 9)\n",
      "(9, 10)\n"
     ]
    }
   ],
   "source": [
    "l=[1,2,3,4,5,6,7,8,9,10]\n",
    "for var in enumerate(l):\n",
    "    print(var)"
   ]
  },
  {
   "cell_type": "code",
   "execution_count": 2,
   "metadata": {},
   "outputs": [
    {
     "name": "stdout",
     "output_type": "stream",
     "text": [
      "Say something: hello there\n",
      "Hi hello there\n"
     ]
    }
   ],
   "source": [
    "try: input = raw_input\n",
    "except NameError: pass\n",
    "print(\"Hi \" + input(\"Say something: \"))"
   ]
  },
  {
   "cell_type": "code",
   "execution_count": 3,
   "metadata": {},
   "outputs": [
    {
     "name": "stdout",
     "output_type": "stream",
     "text": [
      "['__class__', '__contains__', '__delattr__', '__delitem__', '__dir__', '__doc__', '__eq__', '__format__', '__ge__', '__getattribute__', '__getitem__', '__gt__', '__hash__', '__init__', '__init_subclass__', '__iter__', '__le__', '__len__', '__lt__', '__ne__', '__new__', '__reduce__', '__reduce_ex__', '__repr__', '__setattr__', '__setitem__', '__sizeof__', '__str__', '__subclasshook__', 'clear', 'copy', 'fromkeys', 'get', 'items', 'keys', 'pop', 'popitem', 'setdefault', 'update', 'values']\n"
     ]
    }
   ],
   "source": [
    "print(dir(dict))"
   ]
  },
  {
   "cell_type": "code",
   "execution_count": 17,
   "metadata": {},
   "outputs": [
    {
     "name": "stdout",
     "output_type": "stream",
     "text": [
      "Empty dictionary : {}\n",
      "\n",
      "After adding three elements: \n",
      " {0: 'Geeks', 1: 'for', 2: 1}\n",
      "\n",
      "After adding three elements the new dictionary : \n",
      " {0: 'Geeks', 1: 'for', 2: 1, 'value set': (2, 3, 4)}\n",
      "\n",
      "dictionary after changing value: \n",
      " {0: 'Geeks', 1: 'for', 2: 'geeks', 'value set': (2, 3, 4)}\n",
      "\n",
      "Dictionary after adding nested element : \n",
      " {0: 'Geeks', 1: 'for', 2: 'geeks', 'value set': (2, 3, 4), 5: {'Nested': {'1': 'geek', 2: 'life'}}}\n",
      "\n",
      " {'Nested': {'1': 'geek', 2: 'life'}}\n",
      "\n",
      " geek life\n"
     ]
    }
   ],
   "source": [
    "di={}\n",
    "print('Empty dictionary :',di)\n",
    "di[0]='Geeks'\n",
    "di[1]='for'\n",
    "di[2]=1\n",
    "print('\\nAfter adding three elements: \\n', di)\n",
    "di['value set'] = 2,3,4\n",
    "print('\\nAfter adding three elements the new dictionary : \\n',di)\n",
    "di[2]='geeks'\n",
    "print('\\ndictionary after changing value: \\n',di)\n",
    "di[5]={'Nested' :{'1':'geek',2:'life'}}\n",
    "print('\\nDictionary after adding nested element : \\n',di)\n",
    "print('\\n',di[5])\n",
    "print('\\n',di[5]['Nested']['1'],di[5]['Nested'][2],sep = ' ')"
   ]
  },
  {
   "cell_type": "code",
   "execution_count": null,
   "metadata": {},
   "outputs": [],
   "source": []
  }
 ],
 "metadata": {
  "kernelspec": {
   "display_name": "Python 3",
   "language": "python",
   "name": "python3"
  },
  "language_info": {
   "codemirror_mode": {
    "name": "ipython",
    "version": 3
   },
   "file_extension": ".py",
   "mimetype": "text/x-python",
   "name": "python",
   "nbconvert_exporter": "python",
   "pygments_lexer": "ipython3",
   "version": "3.6.5"
  }
 },
 "nbformat": 4,
 "nbformat_minor": 2
}
