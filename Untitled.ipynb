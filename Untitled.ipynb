{
 "cells": [
  {
   "cell_type": "markdown",
   "metadata": {},
   "source": [
    "# Operators In Python :\n",
    "\n",
    "1) Arithmetic operators- +,-, %, //, /, *, **<br>\n",
    "2)Comparison operators-  ==, <=, >=, !=, >, <, <br>\n",
    "3)Logical opertors- AND, OR, NOT, <br>\n",
    "4) Assignment operator- =, +=, -= , /=, *=, %= <br>\n",
    "5) Membership operators- in, not in <br>\n",
    "6) Identifier operators- is, not is <br>\n",
    "7) Bitwise operators- &, |, ^, <<, >> <br>\n"
   ]
  },
  {
   "cell_type": "code",
   "execution_count": null,
   "metadata": {},
   "outputs": [],
   "source": [
    "'m'*'m'"
   ]
  },
  {
   "cell_type": "code",
   "execution_count": null,
   "metadata": {},
   "outputs": [],
   "source": [
    "'hi'> 'hello'"
   ]
  },
  {
   "cell_type": "code",
   "execution_count": null,
   "metadata": {},
   "outputs": [],
   "source": [
    "'hi'<'hello'"
   ]
  },
  {
   "cell_type": "code",
   "execution_count": null,
   "metadata": {},
   "outputs": [],
   "source": [
    "'hi' or 'hello'"
   ]
  },
  {
   "cell_type": "code",
   "execution_count": null,
   "metadata": {},
   "outputs": [],
   "source": [
    "10 & 4"
   ]
  },
  {
   "cell_type": "code",
   "execution_count": null,
   "metadata": {},
   "outputs": [],
   "source": [
    "12 & 5"
   ]
  },
  {
   "cell_type": "code",
   "execution_count": null,
   "metadata": {},
   "outputs": [],
   "source": [
    "12 | 5"
   ]
  },
  {
   "cell_type": "code",
   "execution_count": null,
   "metadata": {},
   "outputs": [],
   "source": [
    "10 ^ | 4"
   ]
  },
  {
   "cell_type": "code",
   "execution_count": null,
   "metadata": {},
   "outputs": [],
   "source": [
    "10 ^ 4"
   ]
  },
  {
   "cell_type": "code",
   "execution_count": null,
   "metadata": {},
   "outputs": [],
   "source": [
    "15^10"
   ]
  },
  {
   "cell_type": "code",
   "execution_count": null,
   "metadata": {},
   "outputs": [],
   "source": [
    "10<<2"
   ]
  },
  {
   "cell_type": "code",
   "execution_count": null,
   "metadata": {},
   "outputs": [],
   "source": [
    "10>>2"
   ]
  },
  {
   "cell_type": "code",
   "execution_count": null,
   "metadata": {},
   "outputs": [],
   "source": [
    "bin(15)"
   ]
  },
  {
   "cell_type": "code",
   "execution_count": null,
   "metadata": {},
   "outputs": [],
   "source": [
    "bin(-15)"
   ]
  },
  {
   "cell_type": "code",
   "execution_count": null,
   "metadata": {},
   "outputs": [],
   "source": [
    "ascii('a')"
   ]
  },
  {
   "cell_type": "code",
   "execution_count": null,
   "metadata": {},
   "outputs": [],
   "source": [
    "x=chr('a')\n",
    "ascii(x)\n"
   ]
  },
  {
   "cell_type": "code",
   "execution_count": null,
   "metadata": {},
   "outputs": [],
   "source": [
    "'''que: A train coach has 108 seats. Each row has 6 seats that is 1,2,3 and 4,5,6 such that 1,6 are window seats. 2,5 are middle seats.\n",
    "And 3,4 are aisle seats. then 7,8,9 and 10,11,12 continues afer 6 in opposite side similarly. now similarly all seats are divided into\n",
    "9 compartments. Now if i enter my seat number, give output of my seat position(w,m,a) and seat number in front of me. \n",
    "example : if i enter 1, then output must be 12 W'''\n",
    "\n",
    "l_e = [2,4,6,8,10,12,14,16,18,20,22,24,26,28,30,32,34,36,38,40,42,44,46,48,50,52,54,56,58,60,62,64,66,68,70,72,74,76,78,80,82,84,86,88,90,92,94,96,98,100,102,104,106,108]\n",
    "l_o = [1,3,5,7,9,11,13,15,17,19,21,23,25,27,29,31,33,35,37,39,41,43,45,47,49,51,53,55,57,59,61,63,65,67,69,71,73,75,77,79,81,83,85,87,89,91,93,95,97,99,101,103,105,107]\n",
    "l_ei = [[2,4,6,8,10,12],[14,16,18,20,22,24],[26,28,30,32,34,36],[38,40,42,44,46,48],[50,52,54,56,58,60],[62,64,66,68,70,72],[74,76,78,80,82,84],[86,88,90,92,94,96],[98,100,102,104,106,108]]\n",
    "l_oi = [[1,3,5,7,9,11],[13,15,17,19,21,23],[25,27,29,31,33,35],[37,39,41,43,45,47],[49,51,53,55,57,59],[61,63,65,67,69,71],[73,75,77,79,81,83],[85,87,89,91,93,95],[97,99,101,103,105,107]]\n",
    "\n",
    "ch= int(input('Enter a seat number : '))\n",
    "# divided in 9 nested lists\n",
    "\n",
    "\n",
    "if ch % 2 == 0 :\n",
    "    for subarray in l_ei:\n",
    "        if ch in subarray:\n",
    "            i = subarray.index(ch)\n",
    "            k = l_ei.index(subarray)\n",
    "            print('k : ', k)\n",
    "            print('index=', i)\n",
    "            j=abs(i-5)\n",
    "            print('j=',j)\n",
    "            print('opposite seat : ', l_oi[k][j] )\n",
    "            #print(l_ei.index(subarray), '-', subarray.index(ch))\n",
    "    x=l_e.index(ch)\n",
    "    x+=1\n",
    "    y=x%3\n",
    "    if y==1 :\n",
    "        print('M')\n",
    "    elif y==2 :\n",
    "        print('A')\n",
    "    else :\n",
    "        print('W')\n",
    "else :\n",
    "    \n",
    "    for subarray in l_oi:\n",
    "        if ch in subarray:\n",
    "            i = subarray.index(ch)\n",
    "            k = l_oi.index(subarray)\n",
    "            print('k : ', k)\n",
    "            print('index=', i)\n",
    "            j=abs(i-5)\n",
    "            print('j=',j)\n",
    "            print('opposite seat : ', l_ei[k][j] )\n",
    "    x=l_o.index(ch)\n",
    "    x+=1\n",
    "    y=x%3\n",
    "    if y==1 :\n",
    "        print('W')\n",
    "    elif y==2 :\n",
    "        print('A')\n",
    "    else :\n",
    "        print('M')\n",
    "    \n",
    "    "
   ]
  },
  {
   "cell_type": "code",
   "execution_count": null,
   "metadata": {},
   "outputs": [],
   "source": [
    "l = [1,2,3]\n",
    "\n",
    "try :\n",
    "    print(l[2])\n",
    "    print(l[4])\n",
    "except IndexError :\n",
    "    print('An error occured. You entered invalid index')\n",
    "    "
   ]
  },
  {
   "cell_type": "code",
   "execution_count": null,
   "metadata": {},
   "outputs": [],
   "source": [
    "try :\n",
    "    a=3\n",
    "    if a<4 :\n",
    "        b = a/(a-3)\n",
    "        print('value of b : ', b)\n",
    "except (ZeroDivisionError, NameError) :\n",
    "    print('OOPS! Something went wrong')\n",
    "        "
   ]
  },
  {
   "cell_type": "code",
   "execution_count": null,
   "metadata": {},
   "outputs": [],
   "source": [
    "def AbyB(a , b): \n",
    "    try: \n",
    "        c = ((a+b) / (a-b)) \n",
    "    except ZeroDivisionError: \n",
    "        print( \"a/b resulted in 0\")\n",
    "    else: \n",
    "        print ('value of c :', c) \n",
    "  \n",
    "# Driver program to test above function \n",
    "AbyB(2.0, 3.0) \n",
    "AbyB(3.0, 3.0) "
   ]
  },
  {
   "cell_type": "code",
   "execution_count": null,
   "metadata": {},
   "outputs": [],
   "source": [
    "54/6"
   ]
  },
  {
   "cell_type": "code",
   "execution_count": null,
   "metadata": {},
   "outputs": [],
   "source": [
    "array = [[1,2,3], [4,5,6], [7,8]]\n",
    "for subarray in array:\n",
    "    if 2 in subarray:\n",
    "        print(array.index(subarray), '-', subarray.index(2))"
   ]
  },
  {
   "cell_type": "code",
   "execution_count": null,
   "metadata": {},
   "outputs": [],
   "source": [
    "N=int(input())\n",
    "l=[]\n",
    "for i in range(2,N+1) :\n",
    "    num=0\n",
    "    for j in range(1,i):\n",
    "        if i%j==0 :\n",
    "            num+=1\n",
    "    if num < 2 :\n",
    "        l.append(i)\n",
    "print(*l)"
   ]
  },
  {
   "cell_type": "code",
   "execution_count": null,
   "metadata": {},
   "outputs": [],
   "source": [
    "for i in range(0,6):\n",
    "    for k in range(5,i,-1):\n",
    "        print('  ',end = ' ')\n",
    "    for j in range(0,i+1):\n",
    "        if(j==1 or i==j):\n",
    "            print('*',end = ' ')\n",
    "        else :\n",
    "            print('  ',end= ' ')\n",
    "    print('\\n')\n"
   ]
  },
  {
   "cell_type": "code",
   "execution_count": null,
   "metadata": {},
   "outputs": [],
   "source": [
    "n = int(input('Enter the number of socks : '))\n",
    "ar = [(input('Enter value : ')) for var in range(n) ]\n",
    "print(*ar)\n",
    "\n",
    "\n",
    "\n",
    "\n",
    "#x = [int(x) for x in input(\"Enter multiple value: \").split()] \n",
    "#print(x)"
   ]
  },
  {
   "cell_type": "code",
   "execution_count": null,
   "metadata": {},
   "outputs": [],
   "source": [
    "print(x)"
   ]
  },
  {
   "cell_type": "code",
   "execution_count": null,
   "metadata": {},
   "outputs": [],
   "source": [
    "for i in range(0,6):\n",
    "    for j in range(6,i,-1):\n",
    "        print(end = '  ')\n",
    "    for k in range(0,i+1):\n",
    "        print('*',end=' ')\n",
    "    print('\\n')\n"
   ]
  },
  {
   "cell_type": "code",
   "execution_count": null,
   "metadata": {},
   "outputs": [],
   "source": [
    "from collections import Counter\n",
    "\n",
    "n = int(input())\n",
    "c = Counter(map(int, input().split()))\n",
    "print(len(c))\n",
    "    \n",
    "        \n",
    "ans = 0\n",
    "\n",
    "for x in c:\n",
    "    ans += c[x] // 2\n",
    "print('ans = ',ans)\n",
    "\n"
   ]
  },
  {
   "cell_type": "code",
   "execution_count": 3,
   "metadata": {},
   "outputs": [
    {
     "name": "stdout",
     "output_type": "stream",
     "text": [
      "names = mohit jayesh shahil anil yogendra\n"
     ]
    }
   ],
   "source": [
    "names = [ input('names = ').split()]\n"
   ]
  },
  {
   "cell_type": "code",
   "execution_count": 4,
   "metadata": {},
   "outputs": [
    {
     "name": "stdout",
     "output_type": "stream",
     "text": [
      "['mohit', 'jayesh', 'shahil', 'anil', 'yogendra']\n"
     ]
    }
   ],
   "source": [
    "print(*names)"
   ]
  },
  {
   "cell_type": "code",
   "execution_count": 1,
   "metadata": {},
   "outputs": [
    {
     "name": "stdout",
     "output_type": "stream",
     "text": [
      "enter [1]20\n",
      "enter [2]30\n",
      "enter [3]42\n",
      "enter [4]21\n",
      "enter [5]41\n",
      "enter [6]546\n",
      "enter [7]35\n",
      "enter [8]54\n",
      "enter [9]55\n",
      "enter [10]62\n",
      "[20, 30, 42, 21, 41, 546, 35, 54, 55, 62]\n"
     ]
    }
   ],
   "source": [
    "li_inp= [int(input(f'enter [{var}]')) for var in range(1,11)]\n",
    "print(li_inp)"
   ]
  },
  {
   "cell_type": "code",
   "execution_count": null,
   "metadata": {},
   "outputs": [],
   "source": [
    "n = int(input ('Enter number of terms : '))\n",
    "\n",
    "\n",
    "array=[]\n",
    "inp=input().split()\n",
    "for i in range(0,n):\n",
    "    array.append(inp[i])\n",
    "print(array)"
   ]
  },
  {
   "cell_type": "code",
   "execution_count": null,
   "metadata": {},
   "outputs": [],
   "source": [
    "class MyError(Exception):\n",
    "    def __init__ (self,length):\n",
    "        self.length = length\n",
    "    "
   ]
  },
  {
   "cell_type": "code",
   "execution_count": null,
   "metadata": {},
   "outputs": [],
   "source": [
    "ch = input('ENter an string : foo or bar : ')\n",
    "ch = ch.upper()\n",
    "#print(ch)\n",
    "ch2=''\n",
    "for var in ch :\n",
    "    if(var != ' ') :\n",
    "        ch2+=var\n",
    "#print('string :', ch2)\n",
    "if ch2 == 'FOO' :\n",
    "    print('bar')\n",
    "elif ch2 == 'BAR' :\n",
    "    print('foo')\n",
    "else :\n",
    "    print('foo|bar')\n",
    "\n",
    "    "
   ]
  },
  {
   "cell_type": "code",
   "execution_count": 8,
   "metadata": {},
   "outputs": [
    {
     "name": "stdout",
     "output_type": "stream",
     "text": [
      "ENter an string : foo or bar :     fo  o\n",
      "bar\n"
     ]
    }
   ],
   "source": [
    "ch = (input('ENter an string : foo or bar : ').split())\n",
    "ch=''.join(ch)\n",
    "ch = ch.upper()\n",
    "if ch == 'FOO' :\n",
    "    print('bar')\n",
    "elif ch == 'BAR' :\n",
    "    print('foo')\n",
    "else :\n",
    "    print('foo|bar')"
   ]
  },
  {
   "cell_type": "code",
   "execution_count": null,
   "metadata": {},
   "outputs": [],
   "source": [
    "try :\n",
    "    \n",
    "    usr_age = int(input('enter your age in numbers : '))\n",
    "    if usr_age<18 :\n",
    "        print('you must be at least 18 years old !')\n",
    "    else  :\n",
    "        ch = int(input('Enter 1 if you are government employee. \\n enter 2 if you are private employee. : '))\n",
    "        if ch == 1 :\n",
    "            print('you have higher chances of getting a loan!')\n",
    "        elif ch == 2 :\n",
    "            print('you have lower chances of getting a loan!')\n",
    "        else :\n",
    "            print('you have entered wrong input!')\n",
    "except ValueError :\n",
    "    print('invlid input')\n",
    "            "
   ]
  },
  {
   "cell_type": "code",
   "execution_count": 14,
   "metadata": {},
   "outputs": [
    {
     "name": "stdout",
     "output_type": "stream",
     "text": [
      "Player 1 : Enter rock or paper or scissor : \n",
      "········\n",
      "Player 2 : Enter Rock or paper or scissor : \n",
      "········\n",
      "P2 WON!\n"
     ]
    }
   ],
   "source": [
    "from getpass import getpass\n",
    "print('Player 1 : Enter rock or paper or scissor : ')\n",
    "p1=getpass()\n",
    "p1= p1.upper()\n",
    "print('Player 2 : Enter Rock or paper or scissor : ')\n",
    "p2=getpass()\n",
    "p2=p2.upper()\n",
    "\n",
    "if p1 == p2 :\n",
    "    print('Its a DRAW!')\n",
    "    \n",
    "elif p1 == 'ROCK' :\n",
    "    if(p2 == 'PAPER') :\n",
    "        print('P2 WON!')\n",
    "    else :\n",
    "        print('p1 WON!')\n",
    "        \n",
    "elif p1 == 'PAPER' :\n",
    "    if(p2 == 'ROCK') :\n",
    "        print('P1 WON!')\n",
    "    else :\n",
    "        print('P2 WON!')\n",
    "        \n",
    "elif p1 == 'SCISSOR' :\n",
    "    if p2 == 'ROCK' :\n",
    "        print('P2 WON!')\n",
    "    else :\n",
    "        print('P1 WON!')\n",
    "else :\n",
    "    print('OOPs something went wrong!')\n",
    "        "
   ]
  },
  {
   "cell_type": "code",
   "execution_count": 7,
   "metadata": {},
   "outputs": [
    {
     "name": "stdout",
     "output_type": "stream",
     "text": [
      "Enter a number between 1-12 : 1\n",
      "1  -  January\n",
      " February\n",
      "March\n",
      "April\n",
      "may\n",
      "june\n",
      "july\n",
      "August\n",
      "september\n",
      "October\n",
      "November\n",
      "December\n"
     ]
    },
    {
     "ename": "IndexError",
     "evalue": "list index out of range",
     "output_type": "error",
     "traceback": [
      "\u001b[1;31m---------------------------------------------------------------------------\u001b[0m",
      "\u001b[1;31mIndexError\u001b[0m                                Traceback (most recent call last)",
      "\u001b[1;32m<ipython-input-7-6c4888e61e23>\u001b[0m in \u001b[0;36m<module>\u001b[1;34m()\u001b[0m\n\u001b[0;32m      7\u001b[0m     \u001b[0mprint\u001b[0m\u001b[1;33m(\u001b[0m\u001b[0mnum\u001b[0m\u001b[1;33m,\u001b[0m\u001b[1;34m' - '\u001b[0m\u001b[1;33m,\u001b[0m \u001b[0mmonths\u001b[0m\u001b[1;33m[\u001b[0m\u001b[0mnum\u001b[0m\u001b[1;33m-\u001b[0m\u001b[1;36m1\u001b[0m\u001b[1;33m]\u001b[0m\u001b[1;33m)\u001b[0m\u001b[1;33m\u001b[0m\u001b[0m\n\u001b[0;32m      8\u001b[0m     \u001b[1;32mfor\u001b[0m \u001b[0mi\u001b[0m \u001b[1;32min\u001b[0m \u001b[0mrange\u001b[0m\u001b[1;33m(\u001b[0m\u001b[0mnum\u001b[0m\u001b[1;33m,\u001b[0m\u001b[1;36m13\u001b[0m\u001b[1;33m)\u001b[0m\u001b[1;33m:\u001b[0m\u001b[1;33m\u001b[0m\u001b[0m\n\u001b[1;32m----> 9\u001b[1;33m         \u001b[0mprint\u001b[0m\u001b[1;33m(\u001b[0m\u001b[0mmonths\u001b[0m\u001b[1;33m[\u001b[0m\u001b[0mi\u001b[0m\u001b[1;33m]\u001b[0m\u001b[1;33m)\u001b[0m\u001b[1;33m\u001b[0m\u001b[0m\n\u001b[0m\u001b[0;32m     10\u001b[0m \u001b[1;32melse\u001b[0m \u001b[1;33m:\u001b[0m\u001b[1;33m\u001b[0m\u001b[0m\n\u001b[0;32m     11\u001b[0m     \u001b[0mprint\u001b[0m\u001b[1;33m(\u001b[0m\u001b[1;34m'invalid input !'\u001b[0m\u001b[1;33m)\u001b[0m\u001b[1;33m\u001b[0m\u001b[0m\n",
      "\u001b[1;31mIndexError\u001b[0m: list index out of range"
     ]
    }
   ],
   "source": [
    "months=['January', ' February', 'March', 'April', 'may', 'june', 'july', 'August', 'september','October', 'November', 'December']\n",
    "num = int (input('Enter a number between 1-12 : '))\n",
    "if num>0 and num<13 :\n",
    "    \n",
    "    for var in range(0,num-1):\n",
    "        print(months[var])\n",
    "    print(num,' - ', months[num-1])\n",
    "    for i in range(num,13):\n",
    "        print(months[i])\n",
    "else :\n",
    "    print('invalid input !')\n",
    "\n",
    "\n"
   ]
  },
  {
   "cell_type": "code",
   "execution_count": 21,
   "metadata": {},
   "outputs": [
    {
     "name": "stdout",
     "output_type": "stream",
     "text": [
      "ENter number between 1-12: 1\n",
      "\n",
      "1 - January\n",
      " February\n",
      "March\n",
      "April\n",
      "may\n",
      "june\n",
      "july\n",
      "August\n",
      "september\n",
      "October\n",
      "November\n",
      "December\n"
     ]
    }
   ],
   "source": [
    "from pprint import pprint\n",
    "months=['January', ' February', 'March', 'April', 'may', 'june', 'july', 'August', 'september','October', 'November', 'December']\n",
    "num = int(input('ENter number between 1-12: '))\n",
    "if num<13 and num>0 :\n",
    "    print(*months[0:num-1],sep='\\n')\n",
    "    print(num,'-',months[num-1])\n",
    "    print(*months[num:12], sep='\\n')\n",
    "else :\n",
    "    print('invalid input!')\n",
    "    \n",
    "    "
   ]
  },
  {
   "cell_type": "code",
   "execution_count": 25,
   "metadata": {},
   "outputs": [
    {
     "name": "stdout",
     "output_type": "stream",
     "text": [
      "ENter an string : foo or bar : b   a     r   \n",
      "bar\n",
      "foo\n"
     ]
    }
   ],
   "source": [
    "ch = (input('ENter an string : foo or bar : ').split())\n",
    "ch=''.join(ch)\n",
    "print(ch)\n",
    "ch = ch.upper()\n",
    "if ch == 'FOO' :\n",
    "    print('bar')\n",
    "elif ch == 'BAR' :\n",
    "    print('foo')\n",
    "else :\n",
    "    print('foo|bar')"
   ]
  },
  {
   "cell_type": "code",
   "execution_count": 35,
   "metadata": {},
   "outputs": [
    {
     "name": "stdout",
     "output_type": "stream",
     "text": [
      "enter a: 10\n",
      "enter b : 45\n",
      "\n",
      "Enter 1 for addition :\n",
      "Enter 2 for subtraction :\n",
      "Enter 3 for multiplication:\n",
      "Enter 4 for division :\n",
      "Enter 5 for modulus :\n",
      "Enter 6 for power :\n",
      "Enter 7 for // division :\n",
      "enter your choice : 6\n",
      "result =:  1000000000000000000000000000000000000000000000\n"
     ]
    }
   ],
   "source": [
    "a= int(input('enter a: '))\n",
    "b= int(input('enter b : '))\n",
    "print('''\n",
    "Enter 1 for addition :\n",
    "Enter 2 for subtraction :\n",
    "Enter 3 for multiplication:\n",
    "Enter 4 for division :\n",
    "Enter 5 for modulus :\n",
    "Enter 6 for power :\n",
    "Enter 7 for // division :''')\n",
    "ch=int(input('enter your choice : '))\n",
    "if ch==1 :\n",
    "    print('result =: ', a+b)\n",
    "elif ch==2 :\n",
    "    print('result =: ', a-b)\n",
    "elif ch==3 :\n",
    "    print('result =: ', a*b)\n",
    "elif ch==4 :\n",
    "    print('result =: ', a/b)\n",
    "elif ch==5 :\n",
    "    print('result =: ', a%b)\n",
    "elif ch==6 :\n",
    "    print('result =: ', a**b)\n",
    "elif ch==7 :\n",
    "    print('result =: ', 'a//b')\n",
    "else :\n",
    "    print('invlid input!')"
   ]
  },
  {
   "cell_type": "code",
   "execution_count": 2,
   "metadata": {},
   "outputs": [
    {
     "name": "stdout",
     "output_type": "stream",
     "text": [
      "5 4 3 2 1 1 2 3 4\n",
      "5 4 3 2 1 1 2 3 4\n"
     ]
    }
   ],
   "source": [
    "list1 = [5, 4, 3, 2, 1] \n",
    "list2 = list1 \n",
    "list1 += [1, 2, 3, 4] \n",
    "print(*list1)\n",
    "print(*list2)"
   ]
  },
  {
   "cell_type": "code",
   "execution_count": 4,
   "metadata": {},
   "outputs": [
    {
     "name": "stdout",
     "output_type": "stream",
     "text": [
      "5 4 3 2 1 1 2 3 4\n",
      "5 4 3 2 1\n"
     ]
    }
   ],
   "source": [
    "list1 = [5, 4, 3, 2, 1] \n",
    "list2 = list1 \n",
    "list1 = list1 + [1, 2, 3, 4]\n",
    "print(*list1)\n",
    "print(*list2)"
   ]
  },
  {
   "cell_type": "code",
   "execution_count": null,
   "metadata": {},
   "outputs": [],
   "source": []
  }
 ],
 "metadata": {
  "kernelspec": {
   "display_name": "Python 3",
   "language": "python",
   "name": "python3"
  },
  "language_info": {
   "codemirror_mode": {
    "name": "ipython",
    "version": 3
   },
   "file_extension": ".py",
   "mimetype": "text/x-python",
   "name": "python",
   "nbconvert_exporter": "python",
   "pygments_lexer": "ipython3",
   "version": "3.6.5"
  }
 },
 "nbformat": 4,
 "nbformat_minor": 2
}
