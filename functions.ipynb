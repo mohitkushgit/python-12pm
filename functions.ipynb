{
 "cells": [
  {
   "cell_type": "code",
   "execution_count": 4,
   "metadata": {},
   "outputs": [],
   "source": [
    "def maxx(a,b,c) :\n",
    "    if (a>b and a>c) or a == b or a == c:\n",
    "        return a\n",
    "    elif (b>c) :\n",
    "        return b\n",
    "    else :\n",
    "        return c\n",
    "\n"
   ]
  },
  {
   "cell_type": "code",
   "execution_count": 5,
   "metadata": {},
   "outputs": [
    {
     "name": "stdout",
     "output_type": "stream",
     "text": [
      "7  is max\n"
     ]
    }
   ],
   "source": [
    "x = max(5,7,2)\n",
    "print(x , ' is max')\n"
   ]
  },
  {
   "cell_type": "code",
   "execution_count": 38,
   "metadata": {},
   "outputs": [],
   "source": [
    "def pattern():\n",
    "    for i in range(1, 6) :\n",
    "        print(' '*(5-i) +' *'*(i))\n",
    "        i += 1\n",
    "\n",
    "#list [] add sum function"
   ]
  },
  {
   "cell_type": "code",
   "execution_count": 39,
   "metadata": {},
   "outputs": [
    {
     "name": "stdout",
     "output_type": "stream",
     "text": [
      "     *\n",
      "    * *\n",
      "   * * *\n",
      "  * * * *\n",
      " * * * * *\n"
     ]
    }
   ],
   "source": [
    "pattern()"
   ]
  },
  {
   "cell_type": "code",
   "execution_count": 40,
   "metadata": {},
   "outputs": [],
   "source": [
    "def sum_list(x) :\n",
    "    _sum = 0\n",
    "    for i in x :\n",
    "        _sum += i\n",
    "    return _sum"
   ]
  },
  {
   "cell_type": "code",
   "execution_count": 56,
   "metadata": {},
   "outputs": [],
   "source": [
    "def mysum(num):\n",
    "    s = 0\n",
    "    for var in num:\n",
    "        s += var\n",
    "        yield s"
   ]
  },
  {
   "cell_type": "code",
   "execution_count": 57,
   "metadata": {},
   "outputs": [],
   "source": [
    "b = mysum(l)"
   ]
  },
  {
   "cell_type": "code",
   "execution_count": 53,
   "metadata": {},
   "outputs": [
    {
     "name": "stdout",
     "output_type": "stream",
     "text": [
      "5\n",
      "8\n",
      "13\n",
      "15\n",
      "21\n",
      "28\n"
     ]
    }
   ],
   "source": [
    "for var in b:\n",
    "    print(var)"
   ]
  },
  {
   "cell_type": "code",
   "execution_count": 58,
   "metadata": {},
   "outputs": [
    {
     "name": "stdout",
     "output_type": "stream",
     "text": [
      "5 8 13 15 21 28\n"
     ]
    }
   ],
   "source": [
    "print(*b)"
   ]
  },
  {
   "cell_type": "code",
   "execution_count": 41,
   "metadata": {},
   "outputs": [
    {
     "data": {
      "text/plain": [
       "28"
      ]
     },
     "execution_count": 41,
     "metadata": {},
     "output_type": "execute_result"
    }
   ],
   "source": [
    "l=[5,3,5,2,6,7]\n",
    "sum_list(l)"
   ]
  },
  {
   "cell_type": "code",
   "execution_count": 42,
   "metadata": {},
   "outputs": [],
   "source": [
    "def mult_table (a):\n",
    "    for i in range (1,11) :\n",
    "        print(a , ' *', i, ' = ', a*i)\n"
   ]
  },
  {
   "cell_type": "code",
   "execution_count": 43,
   "metadata": {},
   "outputs": [
    {
     "name": "stdout",
     "output_type": "stream",
     "text": [
      "25  * 1  =  25\n",
      "25  * 2  =  50\n",
      "25  * 3  =  75\n",
      "25  * 4  =  100\n",
      "25  * 5  =  125\n",
      "25  * 6  =  150\n",
      "25  * 7  =  175\n",
      "25  * 8  =  200\n",
      "25  * 9  =  225\n",
      "25  * 10  =  250\n"
     ]
    }
   ],
   "source": [
    "mult_table(25)"
   ]
  },
  {
   "cell_type": "code",
   "execution_count": 59,
   "metadata": {},
   "outputs": [],
   "source": [
    "def _sumoflist(x) :\n",
    "    s = 0\n",
    "    for i in x :\n",
    "        s += i\n",
    "        yield s\n"
   ]
  },
  {
   "cell_type": "code",
   "execution_count": 62,
   "metadata": {},
   "outputs": [
    {
     "name": "stdout",
     "output_type": "stream",
     "text": [
      "1 4 8 13 16 21 27 31\n"
     ]
    }
   ],
   "source": [
    "a= _sumoflist([1,3,4,5,3,5,6,4])\n",
    "print(*a)"
   ]
  },
  {
   "cell_type": "code",
   "execution_count": 67,
   "metadata": {},
   "outputs": [],
   "source": [
    "def _sq() :\n",
    "    for i in range(1,11) :\n",
    "        s= i**2\n",
    "        yield s\n"
   ]
  },
  {
   "cell_type": "code",
   "execution_count": 68,
   "metadata": {},
   "outputs": [
    {
     "name": "stdout",
     "output_type": "stream",
     "text": [
      "1 4 9 16 25 36 49 64 81 100\n"
     ]
    }
   ],
   "source": [
    "q = _sq()\n",
    "print(*q)"
   ]
  },
  {
   "cell_type": "code",
   "execution_count": 1,
   "metadata": {},
   "outputs": [],
   "source": [
    "'''def del_itms_from_list(seq,item) :\n",
    "    for i in seq :\n",
    "        if i == item :\n",
    "            seq.remove(item)\n",
    "            print('current list :\\n',*seq)\n",
    "        \n",
    "    return seq'''\n",
    "def del_items(seq, item) :\n",
    "    for i in seq :\n",
    "        if(item in seq) :\n",
    "            seq.remove(item)\n",
    "    return seq\n",
    "\n"
   ]
  },
  {
   "cell_type": "code",
   "execution_count": 16,
   "metadata": {},
   "outputs": [
    {
     "name": "stdout",
     "output_type": "stream",
     "text": [
      "current list :\n",
      " 1 5 5 45 12 50 50 50 50 21 61 50 32 50 63 45 7 50 50 50 50 50 50\n",
      "current list :\n",
      " 1 5 5 45 12 50 50 50 21 61 50 32 50 63 45 7 50 50 50 50 50 50\n",
      "current list :\n",
      " 1 5 5 45 12 50 50 21 61 50 32 50 63 45 7 50 50 50 50 50 50\n",
      "current list :\n",
      " 1 5 5 45 12 50 21 61 50 32 50 63 45 7 50 50 50 50 50 50\n",
      "current list :\n",
      " 1 5 5 45 12 21 61 50 32 50 63 45 7 50 50 50 50 50 50\n",
      "current list :\n",
      " 1 5 5 45 12 21 61 32 50 63 45 7 50 50 50 50 50 50\n",
      "current list :\n",
      " 1 5 5 45 12 21 61 32 63 45 7 50 50 50 50 50 50\n",
      "current list :\n",
      " 1 5 5 45 12 21 61 32 63 45 7 50 50 50 50 50\n"
     ]
    },
    {
     "data": {
      "text/plain": [
       "[1, 5, 5, 45, 12, 21, 61, 32, 63, 45, 7, 50, 50, 50, 50, 50]"
      ]
     },
     "execution_count": 16,
     "metadata": {},
     "output_type": "execute_result"
    }
   ],
   "source": [
    "l=[1, 5, 50, 5, 45, 12, 50, 50, 50, 50, 21, 61, 50, 32, 50, 63, 45, 7, 50, 50, 50, 50, 50, 50]\n",
    "del_(l,50)"
   ]
  },
  {
   "cell_type": "code",
   "execution_count": 18,
   "metadata": {},
   "outputs": [
    {
     "name": "stdout",
     "output_type": "stream",
     "text": [
      "13\n",
      "1 5 5 45 12 21 61 32 63 45 7\n"
     ]
    }
   ],
   "source": [
    "def del_items(s,it) :\n",
    "    x = s.count(it)\n",
    "    print(x)\n",
    "    for i in range(0, x):\n",
    "        s.remove(it)\n",
    "    print(*s)\n",
    "\n",
    "l=[1, 5, 50, 5, 45, 12, 50, 50, 50, 50, 21, 61, 50, 32, 50, 63, 45, 7, 50, 50, 50, 50, 50, 50]\n",
    "del_items(l,50)"
   ]
  },
  {
   "cell_type": "code",
   "execution_count": 32,
   "metadata": {},
   "outputs": [
    {
     "name": "stdout",
     "output_type": "stream",
     "text": [
      "number of characters :  3\n",
      "banana\n",
      " ^ ^ ^"
     ]
    }
   ],
   "source": [
    "x = 'banana'\n",
    "def count_a(st, a) :\n",
    "    x = st.count(a)\n",
    "    print('number of characters : ', x)\n",
    "    print(st)\n",
    "    #print(' ', end = '')\n",
    "    for i in range(len(st)) :\n",
    "        if st[i] == a :\n",
    "            print('^', end = '')\n",
    "        else :\n",
    "            print(' ', end = '')\n",
    "\n",
    "count_a(x, 'a')\n",
    "    \n",
    "    "
   ]
  },
  {
   "cell_type": "code",
   "execution_count": 34,
   "metadata": {},
   "outputs": [
    {
     "name": "stdout",
     "output_type": "stream",
     "text": [
      "akkad bakkad bambe bo:)akkad bakkad bambe bo:)akkad bakkad bambe bo:)akkad bakkad bambe bo:)akkad bakkad bambe bo:)"
     ]
    }
   ],
   "source": [
    "for i in range(5) :\n",
    "    print('akkad bakkad bambe bo', end= ':)', sep =' ')"
   ]
  },
  {
   "cell_type": "code",
   "execution_count": 36,
   "metadata": {},
   "outputs": [
    {
     "name": "stdout",
     "output_type": "stream",
     "text": [
      "18\n"
     ]
    },
    {
     "ename": "TypeError",
     "evalue": "_sum() got multiple values for argument 'y'",
     "output_type": "error",
     "traceback": [
      "\u001b[1;31m---------------------------------------------------------------------------\u001b[0m",
      "\u001b[1;31mTypeError\u001b[0m                                 Traceback (most recent call last)",
      "\u001b[1;32m<ipython-input-36-81a21db54014>\u001b[0m in \u001b[0;36m<module>\u001b[1;34m()\u001b[0m\n\u001b[0;32m      3\u001b[0m \u001b[1;33m\u001b[0m\u001b[0m\n\u001b[0;32m      4\u001b[0m \u001b[0m_sum\u001b[0m\u001b[1;33m(\u001b[0m\u001b[1;36m5\u001b[0m\u001b[1;33m,\u001b[0m\u001b[1;36m6\u001b[0m\u001b[1;33m,\u001b[0m\u001b[1;36m7\u001b[0m\u001b[1;33m)\u001b[0m\u001b[1;33m\u001b[0m\u001b[0m\n\u001b[1;32m----> 5\u001b[1;33m \u001b[0m_sum\u001b[0m\u001b[1;33m(\u001b[0m\u001b[1;36m6\u001b[0m\u001b[1;33m,\u001b[0m\u001b[1;36m7\u001b[0m\u001b[1;33m,\u001b[0m\u001b[0my\u001b[0m\u001b[1;33m=\u001b[0m\u001b[1;36m5\u001b[0m\u001b[1;33m)\u001b[0m\u001b[1;33m\u001b[0m\u001b[0m\n\u001b[0m",
      "\u001b[1;31mTypeError\u001b[0m: _sum() got multiple values for argument 'y'"
     ]
    }
   ],
   "source": [
    "def _sum(x, y = 0, z = 0) :\n",
    "    print(x+y+z)\n",
    "\n",
    "_sum(5,6,7)\n",
    "#_sum(6,7,y=5)\n",
    "_sum()"
   ]
  },
  {
   "cell_type": "code",
   "execution_count": 41,
   "metadata": {},
   "outputs": [
    {
     "name": "stdout",
     "output_type": "stream",
     "text": [
      "(4, 5, 6, 7, 1, 2, 3)\n",
      "square and rectangle\n",
      "pentagon\n",
      "a poloygon\n",
      "a poloygon\n",
      "line\n",
      "parallel line\n",
      "traingle\n",
      "()\n"
     ]
    }
   ],
   "source": [
    "def shape(*arg) :\n",
    "    print(arg)\n",
    "    if arg == None :\n",
    "        print('ek input nai daal saka')\n",
    "    else:\n",
    "        for i in arg :\n",
    "            if i == 1 :\n",
    "                print('line')\n",
    "            elif i == 2 :\n",
    "                print('parallel line')\n",
    "            elif i == 3 :\n",
    "                print('traingle')\n",
    "            elif i == 4 :\n",
    "                print('square and rectangle')\n",
    "            elif i == 5 :\n",
    "                print('pentagon')\n",
    "            else :\n",
    "                print('a poloygon')\n",
    "    return \n",
    "\n",
    "x= [4, 5, 6, 7, 1, 2, 3]\n",
    "shape(*x)\n",
    "shape()\n",
    "\n",
    "\n",
    "            "
   ]
  },
  {
   "cell_type": "markdown",
   "metadata": {},
   "source": [
    "# anonymus function"
   ]
  },
  {
   "cell_type": "code",
   "execution_count": 2,
   "metadata": {},
   "outputs": [
    {
     "name": "stdout",
     "output_type": "stream",
     "text": [
      "1 4 9 9 16 25 25\n"
     ]
    }
   ],
   "source": [
    "l = [1,2,3,3,4,5,5]\n",
    "t = list(map(lambda x : x*x, l))\n",
    "print(*t)"
   ]
  },
  {
   "cell_type": "code",
   "execution_count": 4,
   "metadata": {},
   "outputs": [
    {
     "data": {
      "text/plain": [
       "['odd', 'odd', 'even', 'odd', 'odd', 'even', 'even', 'odd', 'even']"
      ]
     },
     "execution_count": 4,
     "metadata": {},
     "output_type": "execute_result"
    }
   ],
   "source": [
    "p = [1,5,12,45,5,4,6,7,8]\n",
    "eve = list(map (lambda x : 'even' if x%2 == 0 else 'odd', p))\n",
    "eve"
   ]
  },
  {
   "cell_type": "code",
   "execution_count": 18,
   "metadata": {},
   "outputs": [],
   "source": [
    "_max = lambda a,b : 'a greater' if a>b else 'b greater'\n"
   ]
  },
  {
   "cell_type": "code",
   "execution_count": 21,
   "metadata": {},
   "outputs": [
    {
     "data": {
      "text/plain": [
       "'a greater'"
      ]
     },
     "execution_count": 21,
     "metadata": {},
     "output_type": "execute_result"
    }
   ],
   "source": [
    "_max(12,10)"
   ]
  },
  {
   "cell_type": "code",
   "execution_count": 23,
   "metadata": {},
   "outputs": [
    {
     "ename": "SyntaxError",
     "evalue": "invalid syntax (<ipython-input-23-ec654e92e7fd>, line 1)",
     "output_type": "error",
     "traceback": [
      "\u001b[1;36m  File \u001b[1;32m\"<ipython-input-23-ec654e92e7fd>\"\u001b[1;36m, line \u001b[1;32m1\u001b[0m\n\u001b[1;33m    _m = lambda a,b,c : 'a max ' if (a>b and a>c) if b>c 'b is max'  else 'c is max'\u001b[0m\n\u001b[1;37m                                                   ^\u001b[0m\n\u001b[1;31mSyntaxError\u001b[0m\u001b[1;31m:\u001b[0m invalid syntax\n"
     ]
    }
   ],
   "source": [
    "_m = lambda a,b,c : 'a max ' if (a>b and a>c) if b>c 'b is max'  else 'c is max'"
   ]
  },
  {
   "cell_type": "code",
   "execution_count": 26,
   "metadata": {},
   "outputs": [],
   "source": [
    "greatest = lambda a,b,c : 'a is max' if (a>=b and a>=c) else ('b is max' if b >= c else 'c is max')"
   ]
  },
  {
   "cell_type": "code",
   "execution_count": 27,
   "metadata": {},
   "outputs": [
    {
     "data": {
      "text/plain": [
       "'b is max'"
      ]
     },
     "execution_count": 27,
     "metadata": {},
     "output_type": "execute_result"
    }
   ],
   "source": [
    "greatest(4,6,3)"
   ]
  },
  {
   "cell_type": "code",
   "execution_count": 36,
   "metadata": {},
   "outputs": [
    {
     "data": {
      "text/plain": [
       "[4, 20, 22]"
      ]
     },
     "execution_count": 36,
     "metadata": {},
     "output_type": "execute_result"
    }
   ],
   "source": [
    "l = [4,3,45,7,20,22]\n",
    "e = list(filter(lambda x :  x%2==0, l ))\n",
    "e"
   ]
  },
  {
   "cell_type": "code",
   "execution_count": 28,
   "metadata": {},
   "outputs": [
    {
     "name": "stdout",
     "output_type": "stream",
     "text": [
      "enter numbers with space as seperation : 1 2 3 4 5 6 7 8 9 10\n"
     ]
    }
   ],
   "source": [
    "t = list(map(lambda x : x*x, map(int,input('enter numbers with space as seperation : ').split())))"
   ]
  },
  {
   "cell_type": "code",
   "execution_count": 29,
   "metadata": {},
   "outputs": [
    {
     "data": {
      "text/plain": [
       "[1, 4, 9, 16, 25, 36, 49, 64, 81, 100]"
      ]
     },
     "execution_count": 29,
     "metadata": {},
     "output_type": "execute_result"
    }
   ],
   "source": [
    "t"
   ]
  },
  {
   "cell_type": "code",
   "execution_count": 38,
   "metadata": {},
   "outputs": [],
   "source": [
    "from functools import reduce"
   ]
  },
  {
   "cell_type": "code",
   "execution_count": 40,
   "metadata": {},
   "outputs": [
    {
     "data": {
      "text/plain": [
       "385"
      ]
     },
     "execution_count": 40,
     "metadata": {},
     "output_type": "execute_result"
    }
   ],
   "source": [
    "mysum = reduce(lambda x,y : x+y, t)\n",
    "mysum"
   ]
  },
  {
   "cell_type": "code",
   "execution_count": 41,
   "metadata": {},
   "outputs": [],
   "source": [
    "mult = reduce(lambda x,y : x*y, t)"
   ]
  },
  {
   "cell_type": "code",
   "execution_count": 42,
   "metadata": {},
   "outputs": [
    {
     "data": {
      "text/plain": [
       "13168189440000"
      ]
     },
     "execution_count": 42,
     "metadata": {},
     "output_type": "execute_result"
    }
   ],
   "source": [
    "mult"
   ]
  },
  {
   "cell_type": "markdown",
   "metadata": {},
   "source": [
    "# Recursive function"
   ]
  },
  {
   "cell_type": "code",
   "execution_count": 1,
   "metadata": {},
   "outputs": [
    {
     "data": {
      "text/plain": [
       "120"
      ]
     },
     "execution_count": 1,
     "metadata": {},
     "output_type": "execute_result"
    }
   ],
   "source": [
    "def fact(num) :\n",
    "    if num == 1 :\n",
    "        return 1\n",
    "    else :\n",
    "        return num * fact(num-1)\n",
    "\n",
    "fact(5)"
   ]
  },
  {
   "cell_type": "code",
   "execution_count": 3,
   "metadata": {},
   "outputs": [
    {
     "name": "stdout",
     "output_type": "stream",
     "text": [
      "enter multiple numbers : 1 2 3 45 6 4 51 6\n"
     ]
    },
    {
     "data": {
      "text/plain": [
       "[1, 2, 3, 45, 6, 4, 51, 6]"
      ]
     },
     "execution_count": 3,
     "metadata": {},
     "output_type": "execute_result"
    }
   ],
   "source": [
    "li = list(map(lambda x : x, map(int,input('enter multiple numbers : ').split())))\n",
    "li"
   ]
  },
  {
   "cell_type": "code",
   "execution_count": 5,
   "metadata": {},
   "outputs": [
    {
     "name": "stdout",
     "output_type": "stream",
     "text": [
      "1\n",
      "2\n",
      "3\n",
      "45\n",
      "6\n",
      "4\n",
      "51\n",
      "6\n"
     ]
    }
   ],
   "source": [
    "print(*li, sep = '\\n')"
   ]
  },
  {
   "cell_type": "code",
   "execution_count": null,
   "metadata": {},
   "outputs": [],
   "source": []
  }
 ],
 "metadata": {
  "kernelspec": {
   "display_name": "Python 3",
   "language": "python",
   "name": "python3"
  },
  "language_info": {
   "codemirror_mode": {
    "name": "ipython",
    "version": 3
   },
   "file_extension": ".py",
   "mimetype": "text/x-python",
   "name": "python",
   "nbconvert_exporter": "python",
   "pygments_lexer": "ipython3",
   "version": "3.6.5"
  }
 },
 "nbformat": 4,
 "nbformat_minor": 2
}
